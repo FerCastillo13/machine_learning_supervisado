{
 "cells": [
  {
   "cell_type": "markdown",
   "id": "9e713344",
   "metadata": {},
   "source": [
    "# MODELOS SUPERVISADOS: PRÁCTICA FINAL"
   ]
  },
  {
   "cell_type": "markdown",
   "id": "cf7ff986",
   "metadata": {},
   "source": [
    "Alejandro Calles Moreno, Fernando Castillo Eibe, Pablo Hermoso Ferreiro"
   ]
  },
  {
   "cell_type": "code",
   "execution_count": 106,
   "id": "c77bd507",
   "metadata": {},
   "outputs": [],
   "source": [
    "import numpy as np\n",
    "import pandas as pd\n",
    "import matplotlib.pyplot as plt\n",
    "import warnings\n",
    "import seaborn as sns\n",
    "import tensorflow as tf\n",
    "from matplotlib import pyplot\n",
    "from sklearn.model_selection import train_test_split\n",
    "from sklearn.linear_model import LinearRegression\n",
    "from sklearn.metrics import (roc_curve, RocCurveDisplay, auc)\n",
    "from sklearn.metrics import mean_squared_error\n",
    "from sklearn.preprocessing import StandardScaler\n",
    "from sklearn.linear_model import LogisticRegression\n",
    "from sklearn.preprocessing import StandardScaler\n",
    "\n",
    "random_state = 123\n",
    "warnings.filterwarnings('ignore')"
   ]
  },
  {
   "cell_type": "code",
   "execution_count": 3,
   "id": "d04994ce",
   "metadata": {},
   "outputs": [],
   "source": [
    "#Es necesario cambiar el delimitador a ';' para que se lea el archivo correctamente\n",
    "data_bnb = pd.read_csv('airbnb-listings-extract.csv',delimiter=';', skiprows=0, low_memory=False)"
   ]
  },
  {
   "cell_type": "code",
   "execution_count": 4,
   "id": "024347a3",
   "metadata": {},
   "outputs": [
    {
     "data": {
      "text/plain": [
       "(14780, 89)"
      ]
     },
     "execution_count": 4,
     "metadata": {},
     "output_type": "execute_result"
    }
   ],
   "source": [
    "data_bnb.shape"
   ]
  },
  {
   "cell_type": "code",
   "execution_count": 5,
   "id": "958b07fc",
   "metadata": {},
   "outputs": [
    {
     "data": {
      "text/html": [
       "<div>\n",
       "<style scoped>\n",
       "    .dataframe tbody tr th:only-of-type {\n",
       "        vertical-align: middle;\n",
       "    }\n",
       "\n",
       "    .dataframe tbody tr th {\n",
       "        vertical-align: top;\n",
       "    }\n",
       "\n",
       "    .dataframe thead th {\n",
       "        text-align: right;\n",
       "    }\n",
       "</style>\n",
       "<table border=\"1\" class=\"dataframe\">\n",
       "  <thead>\n",
       "    <tr style=\"text-align: right;\">\n",
       "      <th></th>\n",
       "      <th>ID</th>\n",
       "      <th>Listing Url</th>\n",
       "      <th>Scrape ID</th>\n",
       "      <th>Last Scraped</th>\n",
       "      <th>Name</th>\n",
       "      <th>Summary</th>\n",
       "      <th>Space</th>\n",
       "      <th>Description</th>\n",
       "      <th>Experiences Offered</th>\n",
       "      <th>Neighborhood Overview</th>\n",
       "      <th>...</th>\n",
       "      <th>Review Scores Communication</th>\n",
       "      <th>Review Scores Location</th>\n",
       "      <th>Review Scores Value</th>\n",
       "      <th>License</th>\n",
       "      <th>Jurisdiction Names</th>\n",
       "      <th>Cancellation Policy</th>\n",
       "      <th>Calculated host listings count</th>\n",
       "      <th>Reviews per Month</th>\n",
       "      <th>Geolocation</th>\n",
       "      <th>Features</th>\n",
       "    </tr>\n",
       "  </thead>\n",
       "  <tbody>\n",
       "    <tr>\n",
       "      <th>0</th>\n",
       "      <td>11210388</td>\n",
       "      <td>https://www.airbnb.com/rooms/11210388</td>\n",
       "      <td>20170306202425</td>\n",
       "      <td>2017-03-07</td>\n",
       "      <td>The Loft-Full Bath-Deck w/View</td>\n",
       "      <td>Loft in the Hill country 12-15 minutes directl...</td>\n",
       "      <td>This loft has a spectacular view of the hills ...</td>\n",
       "      <td>Loft in the Hill country 12-15 minutes directl...</td>\n",
       "      <td>none</td>\n",
       "      <td>This neighborhood is located in the hills west...</td>\n",
       "      <td>...</td>\n",
       "      <td>10.0</td>\n",
       "      <td>10.0</td>\n",
       "      <td>10.0</td>\n",
       "      <td>NaN</td>\n",
       "      <td>NaN</td>\n",
       "      <td>moderate</td>\n",
       "      <td>1.0</td>\n",
       "      <td>3.50</td>\n",
       "      <td>30.3373609355,-97.8632766782</td>\n",
       "      <td>Host Is Superhost,Host Has Profile Pic,Host Id...</td>\n",
       "    </tr>\n",
       "    <tr>\n",
       "      <th>1</th>\n",
       "      <td>17471131</td>\n",
       "      <td>https://www.airbnb.com/rooms/17471131</td>\n",
       "      <td>20170407214050</td>\n",
       "      <td>2017-04-08</td>\n",
       "      <td>Claris I, Friendly Rentals</td>\n",
       "      <td>This apartment has: 1 double bed, 1 double sof...</td>\n",
       "      <td>This apartment has: 1 double bed, 1 double sof...</td>\n",
       "      <td>This apartment has: 1 double bed, 1 double sof...</td>\n",
       "      <td>none</td>\n",
       "      <td>Plaza   Cataluña Catalonia Square is the large...</td>\n",
       "      <td>...</td>\n",
       "      <td>10.0</td>\n",
       "      <td>8.0</td>\n",
       "      <td>10.0</td>\n",
       "      <td>HUTB-006721</td>\n",
       "      <td>NaN</td>\n",
       "      <td>super_strict_30</td>\n",
       "      <td>106.0</td>\n",
       "      <td>0.86</td>\n",
       "      <td>41.3896829422,2.17262543017</td>\n",
       "      <td>Host Has Profile Pic,Requires License,Instant ...</td>\n",
       "    </tr>\n",
       "    <tr>\n",
       "      <th>2</th>\n",
       "      <td>17584891</td>\n",
       "      <td>https://www.airbnb.com/rooms/17584891</td>\n",
       "      <td>20170407214050</td>\n",
       "      <td>2017-04-08</td>\n",
       "      <td>Style Terrace Red, Friendly Rentals</td>\n",
       "      <td>This apartment has: 1 double bed, 1 double sof...</td>\n",
       "      <td>This apartment has: 1 double bed, 1 double sof...</td>\n",
       "      <td>This apartment has: 1 double bed, 1 double sof...</td>\n",
       "      <td>none</td>\n",
       "      <td>Plaza   Cataluña Catalonia Square is the large...</td>\n",
       "      <td>...</td>\n",
       "      <td>NaN</td>\n",
       "      <td>NaN</td>\n",
       "      <td>NaN</td>\n",
       "      <td>HUTB-007527</td>\n",
       "      <td>NaN</td>\n",
       "      <td>super_strict_30</td>\n",
       "      <td>106.0</td>\n",
       "      <td>NaN</td>\n",
       "      <td>41.3930345489,2.16217327868</td>\n",
       "      <td>Host Has Profile Pic,Requires License,Instant ...</td>\n",
       "    </tr>\n",
       "    <tr>\n",
       "      <th>3</th>\n",
       "      <td>5398030</td>\n",
       "      <td>https://www.airbnb.com/rooms/5398030</td>\n",
       "      <td>20170407214050</td>\n",
       "      <td>2017-04-08</td>\n",
       "      <td>Picasso Suite 1.4 Paseo de Gracia</td>\n",
       "      <td>Live like a local in Barcelona's most chic dis...</td>\n",
       "      <td>You wake up to the sun rising over Barcelona's...</td>\n",
       "      <td>Live like a local in Barcelona's most chic dis...</td>\n",
       "      <td>none</td>\n",
       "      <td>We're right in the heart of the chic L'Eixampl...</td>\n",
       "      <td>...</td>\n",
       "      <td>10.0</td>\n",
       "      <td>10.0</td>\n",
       "      <td>9.0</td>\n",
       "      <td>NaN</td>\n",
       "      <td>NaN</td>\n",
       "      <td>strict</td>\n",
       "      <td>24.0</td>\n",
       "      <td>1.09</td>\n",
       "      <td>41.3969668101,2.1674178103</td>\n",
       "      <td>Host Has Profile Pic,Host Identity Verified,Re...</td>\n",
       "    </tr>\n",
       "    <tr>\n",
       "      <th>4</th>\n",
       "      <td>18104606</td>\n",
       "      <td>https://www.airbnb.com/rooms/18104606</td>\n",
       "      <td>20170407214050</td>\n",
       "      <td>2017-04-08</td>\n",
       "      <td>Smart City Centre Apartment II</td>\n",
       "      <td>Unique apartment in vibrant neighborhoods, car...</td>\n",
       "      <td>License: HUTB-005313 Charming apartment, locat...</td>\n",
       "      <td>Unique apartment in vibrant neighborhoods, car...</td>\n",
       "      <td>none</td>\n",
       "      <td>NaN</td>\n",
       "      <td>...</td>\n",
       "      <td>NaN</td>\n",
       "      <td>NaN</td>\n",
       "      <td>NaN</td>\n",
       "      <td>NaN</td>\n",
       "      <td>NaN</td>\n",
       "      <td>flexible</td>\n",
       "      <td>92.0</td>\n",
       "      <td>NaN</td>\n",
       "      <td>41.3886851936,2.15514963616</td>\n",
       "      <td>Host Has Profile Pic,Host Identity Verified,Is...</td>\n",
       "    </tr>\n",
       "  </tbody>\n",
       "</table>\n",
       "<p>5 rows × 89 columns</p>\n",
       "</div>"
      ],
      "text/plain": [
       "         ID                            Listing Url       Scrape ID  \\\n",
       "0  11210388  https://www.airbnb.com/rooms/11210388  20170306202425   \n",
       "1  17471131  https://www.airbnb.com/rooms/17471131  20170407214050   \n",
       "2  17584891  https://www.airbnb.com/rooms/17584891  20170407214050   \n",
       "3   5398030   https://www.airbnb.com/rooms/5398030  20170407214050   \n",
       "4  18104606  https://www.airbnb.com/rooms/18104606  20170407214050   \n",
       "\n",
       "  Last Scraped                                 Name  \\\n",
       "0   2017-03-07       The Loft-Full Bath-Deck w/View   \n",
       "1   2017-04-08           Claris I, Friendly Rentals   \n",
       "2   2017-04-08  Style Terrace Red, Friendly Rentals   \n",
       "3   2017-04-08    Picasso Suite 1.4 Paseo de Gracia   \n",
       "4   2017-04-08       Smart City Centre Apartment II   \n",
       "\n",
       "                                             Summary  \\\n",
       "0  Loft in the Hill country 12-15 minutes directl...   \n",
       "1  This apartment has: 1 double bed, 1 double sof...   \n",
       "2  This apartment has: 1 double bed, 1 double sof...   \n",
       "3  Live like a local in Barcelona's most chic dis...   \n",
       "4  Unique apartment in vibrant neighborhoods, car...   \n",
       "\n",
       "                                               Space  \\\n",
       "0  This loft has a spectacular view of the hills ...   \n",
       "1  This apartment has: 1 double bed, 1 double sof...   \n",
       "2  This apartment has: 1 double bed, 1 double sof...   \n",
       "3  You wake up to the sun rising over Barcelona's...   \n",
       "4  License: HUTB-005313 Charming apartment, locat...   \n",
       "\n",
       "                                         Description Experiences Offered  \\\n",
       "0  Loft in the Hill country 12-15 minutes directl...                none   \n",
       "1  This apartment has: 1 double bed, 1 double sof...                none   \n",
       "2  This apartment has: 1 double bed, 1 double sof...                none   \n",
       "3  Live like a local in Barcelona's most chic dis...                none   \n",
       "4  Unique apartment in vibrant neighborhoods, car...                none   \n",
       "\n",
       "                               Neighborhood Overview  ...  \\\n",
       "0  This neighborhood is located in the hills west...  ...   \n",
       "1  Plaza   Cataluña Catalonia Square is the large...  ...   \n",
       "2  Plaza   Cataluña Catalonia Square is the large...  ...   \n",
       "3  We're right in the heart of the chic L'Eixampl...  ...   \n",
       "4                                                NaN  ...   \n",
       "\n",
       "  Review Scores Communication Review Scores Location Review Scores Value  \\\n",
       "0                        10.0                   10.0                10.0   \n",
       "1                        10.0                    8.0                10.0   \n",
       "2                         NaN                    NaN                 NaN   \n",
       "3                        10.0                   10.0                 9.0   \n",
       "4                         NaN                    NaN                 NaN   \n",
       "\n",
       "       License Jurisdiction Names Cancellation Policy  \\\n",
       "0          NaN                NaN            moderate   \n",
       "1  HUTB-006721                NaN     super_strict_30   \n",
       "2  HUTB-007527                NaN     super_strict_30   \n",
       "3          NaN                NaN              strict   \n",
       "4          NaN                NaN            flexible   \n",
       "\n",
       "  Calculated host listings count Reviews per Month  \\\n",
       "0                            1.0              3.50   \n",
       "1                          106.0              0.86   \n",
       "2                          106.0               NaN   \n",
       "3                           24.0              1.09   \n",
       "4                           92.0               NaN   \n",
       "\n",
       "                    Geolocation  \\\n",
       "0  30.3373609355,-97.8632766782   \n",
       "1   41.3896829422,2.17262543017   \n",
       "2   41.3930345489,2.16217327868   \n",
       "3    41.3969668101,2.1674178103   \n",
       "4   41.3886851936,2.15514963616   \n",
       "\n",
       "                                            Features  \n",
       "0  Host Is Superhost,Host Has Profile Pic,Host Id...  \n",
       "1  Host Has Profile Pic,Requires License,Instant ...  \n",
       "2  Host Has Profile Pic,Requires License,Instant ...  \n",
       "3  Host Has Profile Pic,Host Identity Verified,Re...  \n",
       "4  Host Has Profile Pic,Host Identity Verified,Is...  \n",
       "\n",
       "[5 rows x 89 columns]"
      ]
     },
     "execution_count": 5,
     "metadata": {},
     "output_type": "execute_result"
    }
   ],
   "source": [
    "data_bnb.head(5)"
   ]
  },
  {
   "cell_type": "code",
   "execution_count": 6,
   "id": "630f2228",
   "metadata": {},
   "outputs": [],
   "source": [
    "#Eliminar la columna 'listing url' ya que es redundante con el ID así como el resto de columnas con url links\n",
    "data_bnb=data_bnb.drop(columns=['Listing Url','Thumbnail Url','Medium Url','Picture Url','XL Picture Url','Host URL',\n",
    "                               'Host Thumbnail Url','Host Picture Url',])"
   ]
  },
  {
   "cell_type": "code",
   "execution_count": 7,
   "id": "b21f5a50",
   "metadata": {},
   "outputs": [],
   "source": [
    "#La columna 'Has Availability solo tiene 12 filas con el valor 't' y el resto están vacias por lo que decido eliminarla\n",
    "data_bnb=data_bnb.drop(columns=['Has Availability'])"
   ]
  },
  {
   "cell_type": "code",
   "execution_count": 8,
   "id": "a9eb7996",
   "metadata": {},
   "outputs": [],
   "source": [
    "#Se establece la columna 'id' como indice \n",
    "data_bnb=data_bnb.set_index(['ID'])"
   ]
  },
  {
   "cell_type": "code",
   "execution_count": 9,
   "id": "fb8cf4b2",
   "metadata": {},
   "outputs": [],
   "source": [
    "#Se eliminan el resto de IDs que no aportan valor predictivo así como la fecha de recolección de los datos\n",
    "data_bnb=data_bnb.drop(columns=['Host ID','Scrape ID','Last Scraped'])"
   ]
  },
  {
   "cell_type": "code",
   "execution_count": 10,
   "id": "4df13128",
   "metadata": {},
   "outputs": [
    {
     "data": {
      "text/plain": [
       "<AxesSubplot:>"
      ]
     },
     "execution_count": 10,
     "metadata": {},
     "output_type": "execute_result"
    },
    {
     "data": {
      "image/png": "[encoded data removed]",
      "text/plain": [
       "<Figure size 144x720 with 2 Axes>"
      ]
     },
     "metadata": {
      "needs_background": "light"
     },
     "output_type": "display_data"
    }
   ],
   "source": [
    "#Matriz de correlación respecto a la variable objetivo (Price)\n",
    "\n",
    "corrMap=data_bnb.corr().loc[['Price']].sort_values('Price',ascending=False)\n",
    "corrMap = corrMap.T.sort_values('Price',ascending=False)\n",
    "\n",
    "plt.subplots(figsize=(2,10))\n",
    "sns.heatmap(corrMap, cmap=\"YlGnBu\")"
   ]
  },
  {
   "cell_type": "code",
   "execution_count": 11,
   "id": "0e932ad8",
   "metadata": {},
   "outputs": [
    {
     "name": "stdout",
     "output_type": "stream",
     "text": [
      "0.8451442966159827 0.8281550597270412\n"
     ]
    }
   ],
   "source": [
    "#Se comprueba numericamente la correlacion de Weekly y Monthly Price con la variable objetivo\n",
    "correlation1 = data_bnb['Price'].corr(data_bnb['Weekly Price'])\n",
    "correlation2 = data_bnb['Price'].corr(data_bnb['Monthly Price'])\n",
    "\n",
    "print(correlation1,correlation2)"
   ]
  },
  {
   "cell_type": "code",
   "execution_count": 12,
   "id": "e34e4fce",
   "metadata": {},
   "outputs": [],
   "source": [
    "#Dado que están muy correlacionadas, se decide eliminarlas\n",
    "data_bnb=data_bnb.drop(columns=['Weekly Price','Monthly Price'])"
   ]
  },
  {
   "cell_type": "code",
   "execution_count": 13,
   "id": "96fc59b6",
   "metadata": {},
   "outputs": [
    {
     "data": {
      "image/png": "[encoded data removed]",
      "text/plain": [
       "<Figure size 432x288 with 1 Axes>"
      ]
     },
     "metadata": {
      "needs_background": "light"
     },
     "output_type": "display_data"
    }
   ],
   "source": [
    "#Representación gráfica de la distribución de la variable Price\n",
    "n, bins, patches=plt.hist(data_bnb['Price'])\n",
    "plt.xlabel(\"Valores\")\n",
    "plt.ylabel(\"Frequencia\")\n",
    "plt.title(\"Distribución de variable objetivo (precio)\")\n",
    "plt.xlim([0, 600])\n",
    "plt.show()"
   ]
  },
  {
   "cell_type": "code",
   "execution_count": 14,
   "id": "7e08cad2",
   "metadata": {},
   "outputs": [],
   "source": [
    "#Tratamiento de la única variable categórica ('Host Response Time')\n",
    "response_dummy = {'NO VALUE':0,'a few days or more':1,'within a day':2,'within a few hours':3,'within an hour':4}\n",
    "data_bnb['Host Response Time'] = data_bnb['Host Response Time'].replace(response_dummy)"
   ]
  },
  {
   "cell_type": "code",
   "execution_count": 15,
   "id": "ea5432c1",
   "metadata": {},
   "outputs": [
    {
     "data": {
      "text/plain": [
       "Host Acceptance Rate    14741\n",
       "Jurisdiction Names      14553\n",
       "License                 14431\n",
       "Square Feet             14182\n",
       "Notes                    9136\n",
       "                        ...  \n",
       "Availability 90             0\n",
       "Availability 60             0\n",
       "Availability 30             0\n",
       "Calendar Updated            0\n",
       "Accommodates                0\n",
       "Length: 74, dtype: int64"
      ]
     },
     "execution_count": 15,
     "metadata": {},
     "output_type": "execute_result"
    }
   ],
   "source": [
    "#Numero de datos missing en cada columna\n",
    "nulos = data_bnb.isna().sum()\n",
    "nulos.sort_values(ascending=False)"
   ]
  },
  {
   "cell_type": "code",
   "execution_count": 16,
   "id": "43c648c9",
   "metadata": {},
   "outputs": [
    {
     "data": {
      "text/plain": [
       "Host Acceptance Rate    99.736130\n",
       "Jurisdiction Names      98.464141\n",
       "License                 97.638701\n",
       "Square Feet             95.953992\n",
       "Notes                   61.813261\n",
       "                          ...    \n",
       "Availability 90          0.000000\n",
       "Availability 60          0.000000\n",
       "Availability 30          0.000000\n",
       "Calendar Updated         0.000000\n",
       "Accommodates             0.000000\n",
       "Length: 74, dtype: float64"
      ]
     },
     "execution_count": 16,
     "metadata": {},
     "output_type": "execute_result"
    }
   ],
   "source": [
    "#Calculo del porcentaje de valores nulos en cada columna\n",
    "nulos100 = data_bnb.isna().sum()*100/data_bnb.shape[0]\n",
    "nulos100.sort_values(ascending=False)"
   ]
  },
  {
   "cell_type": "code",
   "execution_count": 17,
   "id": "ecc804c8",
   "metadata": {},
   "outputs": [],
   "source": [
    "#Se decide eliminar las columnas 'Host Acceptance Rate' y 'Jurisdiction Names' por su elevado numero de NAs\n",
    "data_bnb=data_bnb.drop(columns=['Host Acceptance Rate','Jurisdiction Names'])"
   ]
  },
  {
   "cell_type": "code",
   "execution_count": 18,
   "id": "97d7c38a",
   "metadata": {},
   "outputs": [],
   "source": [
    "#Separacion de las variables categoricas de las numericas filtrando por el tipo (object o no)\n",
    "categoricas=(data_bnb.dtypes[data_bnb.dtypes=='object'].index.to_list())\n",
    "\n",
    "numericas=(data_bnb.dtypes[data_bnb.dtypes!='object'].index.to_list())"
   ]
  },
  {
   "cell_type": "code",
   "execution_count": 19,
   "id": "ca505efc",
   "metadata": {},
   "outputs": [],
   "source": [
    "#Tratamiento de los NAs\n",
    "data_bnb[categoricas]=data_bnb[categoricas].fillna('NO VALUE')\n",
    "data_bnb[numericas]=data_bnb[numericas].fillna(-500)"
   ]
  },
  {
   "cell_type": "code",
   "execution_count": 20,
   "id": "bd08ddca",
   "metadata": {},
   "outputs": [
    {
     "data": {
      "text/plain": [
       "Name                      0\n",
       "Summary                   0\n",
       "Availability 60           0\n",
       "Availability 30           0\n",
       "Calendar Updated          0\n",
       "                         ..\n",
       "Neighbourhood Cleansed    0\n",
       "Neighbourhood             0\n",
       "Street                    0\n",
       "Host Verifications        0\n",
       "Features                  0\n",
       "Length: 72, dtype: int64"
      ]
     },
     "execution_count": 20,
     "metadata": {},
     "output_type": "execute_result"
    }
   ],
   "source": [
    "#Comprobacción\n",
    "nulosCHECK = data_bnb.isna().sum()\n",
    "nulosCHECK.sort_values(ascending=False)"
   ]
  },
  {
   "cell_type": "code",
   "execution_count": 21,
   "id": "92405572",
   "metadata": {},
   "outputs": [
    {
     "data": {
      "text/plain": [
       "{'Name': 14376,\n",
       " 'Summary': 13290,\n",
       " 'Space': 10175,\n",
       " 'Description': 14282,\n",
       " 'Experiences Offered': 5,\n",
       " 'Neighborhood Overview': 7913,\n",
       " 'Notes': 4653,\n",
       " 'Transit': 7840,\n",
       " 'Access': 7129,\n",
       " 'Interaction': 6586,\n",
       " 'House Rules': 8031,\n",
       " 'Host Name': 3277,\n",
       " 'Host Since': 2117,\n",
       " 'Host Location': 569,\n",
       " 'Host About': 5008,\n",
       " 'Host Neighbourhood': 396,\n",
       " 'Host Verifications': 207,\n",
       " 'Street': 1646,\n",
       " 'Neighbourhood': 391,\n",
       " 'Neighbourhood Cleansed': 478,\n",
       " 'Neighbourhood Group Cleansed': 50,\n",
       " 'City': 247,\n",
       " 'State': 103,\n",
       " 'Zipcode': 620,\n",
       " 'Market': 44,\n",
       " 'Smart Location': 257,\n",
       " 'Country Code': 18,\n",
       " 'Country': 18,\n",
       " 'Property Type': 22,\n",
       " 'Room Type': 3,\n",
       " 'Bed Type': 5,\n",
       " 'Amenities': 12380,\n",
       " 'Calendar Updated': 57,\n",
       " 'Calendar last Scraped': 38,\n",
       " 'First Review': 1680,\n",
       " 'Last Review': 786,\n",
       " 'License': 317,\n",
       " 'Cancellation Policy': 8,\n",
       " 'Geolocation': 14780,\n",
       " 'Features': 89}"
      ]
     },
     "execution_count": 21,
     "metadata": {},
     "output_type": "execute_result"
    }
   ],
   "source": [
    "#Numero de categorias distintas para cada variable categorica\n",
    "{i:data_bnb[i].nunique() for i in categoricas}"
   ]
  },
  {
   "cell_type": "markdown",
   "id": "4f504b02",
   "metadata": {},
   "source": [
    "**GEOLOCALIZACIÓN**"
   ]
  },
  {
   "cell_type": "markdown",
   "id": "7d045b41",
   "metadata": {},
   "source": [
    "Se procederá a aplicar el la librería GEOPANDAS para llevar a cabo una distribución gráfica en un mapa real de los airbnbs en función de su precio y haciendo uso de las coordenadas de latitud y longitud."
   ]
  },
  {
   "cell_type": "code",
   "execution_count": 21,
   "id": "e494c929",
   "metadata": {},
   "outputs": [],
   "source": [
    "from shapely.geometry import Point\n",
    "import geopandas as gpd\n",
    "from geopandas import GeoDataFrame"
   ]
  },
  {
   "cell_type": "code",
   "execution_count": 22,
   "id": "e3c4423c",
   "metadata": {},
   "outputs": [],
   "source": [
    "data_bnb[['latitude','longitude']] = data_bnb.Geolocation.str.split(\",\",expand=True,)\n",
    "geoloc = data_bnb[['Price','latitude','longitude']]"
   ]
  },
  {
   "cell_type": "code",
   "execution_count": 23,
   "id": "1627f21a",
   "metadata": {},
   "outputs": [
    {
     "data": {
      "text/plain": [
       "Price        float64\n",
       "latitude     float64\n",
       "longitude    float64\n",
       "dtype: object"
      ]
     },
     "execution_count": 23,
     "metadata": {},
     "output_type": "execute_result"
    }
   ],
   "source": [
    "geoloc['longitude'] = pd.to_numeric(geoloc['longitude'], errors='coerce')\n",
    "geoloc['latitude'] = pd.to_numeric(geoloc['latitude'], errors='coerce')\n",
    "geoloc.dtypes"
   ]
  },
  {
   "cell_type": "code",
   "execution_count": 24,
   "id": "96357a72",
   "metadata": {},
   "outputs": [
    {
     "data": {
      "text/html": [
       "<div>\n",
       "<style scoped>\n",
       "    .dataframe tbody tr th:only-of-type {\n",
       "        vertical-align: middle;\n",
       "    }\n",
       "\n",
       "    .dataframe tbody tr th {\n",
       "        vertical-align: top;\n",
       "    }\n",
       "\n",
       "    .dataframe thead th {\n",
       "        text-align: right;\n",
       "    }\n",
       "</style>\n",
       "<table border=\"1\" class=\"dataframe\">\n",
       "  <thead>\n",
       "    <tr style=\"text-align: right;\">\n",
       "      <th></th>\n",
       "      <th>Price</th>\n",
       "      <th>latitude</th>\n",
       "      <th>longitude</th>\n",
       "    </tr>\n",
       "    <tr>\n",
       "      <th>ID</th>\n",
       "      <th></th>\n",
       "      <th></th>\n",
       "      <th></th>\n",
       "    </tr>\n",
       "  </thead>\n",
       "  <tbody>\n",
       "    <tr>\n",
       "      <th>11210388</th>\n",
       "      <td>58.0</td>\n",
       "      <td>30.3</td>\n",
       "      <td>-97.9</td>\n",
       "    </tr>\n",
       "    <tr>\n",
       "      <th>17471131</th>\n",
       "      <td>70.0</td>\n",
       "      <td>41.4</td>\n",
       "      <td>2.2</td>\n",
       "    </tr>\n",
       "    <tr>\n",
       "      <th>17584891</th>\n",
       "      <td>70.0</td>\n",
       "      <td>41.4</td>\n",
       "      <td>2.2</td>\n",
       "    </tr>\n",
       "    <tr>\n",
       "      <th>5398030</th>\n",
       "      <td>229.0</td>\n",
       "      <td>41.4</td>\n",
       "      <td>2.2</td>\n",
       "    </tr>\n",
       "    <tr>\n",
       "      <th>18104606</th>\n",
       "      <td>149.0</td>\n",
       "      <td>41.4</td>\n",
       "      <td>2.2</td>\n",
       "    </tr>\n",
       "  </tbody>\n",
       "</table>\n",
       "</div>"
      ],
      "text/plain": [
       "          Price  latitude  longitude\n",
       "ID                                  \n",
       "11210388   58.0      30.3      -97.9\n",
       "17471131   70.0      41.4        2.2\n",
       "17584891   70.0      41.4        2.2\n",
       "5398030   229.0      41.4        2.2\n",
       "18104606  149.0      41.4        2.2"
      ]
     },
     "execution_count": 24,
     "metadata": {},
     "output_type": "execute_result"
    }
   ],
   "source": [
    "geoloc2 = round(geoloc,1)\n",
    "geoloc2.head(5)"
   ]
  },
  {
   "cell_type": "code",
   "execution_count": 29,
   "id": "8cc9fbac",
   "metadata": {},
   "outputs": [
    {
     "data": {
      "image/png": "[encoded data removed]",
      "text/plain": [
       "<Figure size 864x432 with 1 Axes>"
      ]
     },
     "metadata": {
      "needs_background": "light"
     },
     "output_type": "display_data"
    }
   ],
   "source": [
    "world = gpd.read_file(gpd.datasets.get_path('naturalearth_lowres'))\n",
    "fig, ax = plt.subplots(figsize=(12, 6))\n",
    "world.plot(color=\"lightgrey\", ax=ax)\n",
    "x = geoloc2['longitude']\n",
    "y = geoloc2['latitude']\n",
    "z = geoloc2['Price']\n",
    "plt.scatter(x, y)\n",
    "plt.xlabel(\"Longitude\")\n",
    "plt.ylabel(\"Latitude\")\n",
    "plt.show()"
   ]
  },
  {
   "cell_type": "code",
   "execution_count": 31,
   "id": "70acfe62",
   "metadata": {},
   "outputs": [
    {
     "data": {
      "image/png": "[encoded data removed]",
      "text/plain": [
       "<Figure size 864x432 with 2 Axes>"
      ]
     },
     "metadata": {
      "needs_background": "light"
     },
     "output_type": "display_data"
    }
   ],
   "source": [
    "world = gpd.read_file(gpd.datasets.get_path('naturalearth_lowres'))\n",
    "fig, ax = plt.subplots(figsize=(12, 6))\n",
    "world.plot(color=\"lightgrey\", ax=ax)\n",
    "x = geoloc2['longitude']\n",
    "y = geoloc2['latitude']\n",
    "z = geoloc2['Price']\n",
    "plt.scatter(x, y, s=z, c=z)\n",
    "plt.colorbar(label='Price')\n",
    "plt.xlim([-10, 30])\n",
    "plt.ylim([25, 60])\n",
    "plt.xlabel(\"Longitude\")\n",
    "plt.ylabel(\"Latitude\")\n",
    "plt.show()"
   ]
  },
  {
   "cell_type": "code",
   "execution_count": 32,
   "id": "6d94d397",
   "metadata": {},
   "outputs": [
    {
     "data": {
      "image/png": "[encoded data removed]",
      "text/plain": [
       "<Figure size 864x432 with 2 Axes>"
      ]
     },
     "metadata": {
      "needs_background": "light"
     },
     "output_type": "display_data"
    }
   ],
   "source": [
    "world = gpd.read_file(gpd.datasets.get_path('naturalearth_lowres'))\n",
    "fig, ax = plt.subplots(figsize=(12, 6))\n",
    "world.plot(color=\"lightgrey\", ax=ax)\n",
    "x = geoloc2['longitude']\n",
    "y = geoloc2['latitude']\n",
    "z = geoloc2['Price']\n",
    "plt.scatter(x, y, s=z, c=z)\n",
    "plt.colorbar(label='Price')\n",
    "plt.xlim([-130, -60])\n",
    "plt.ylim([25, 55])\n",
    "plt.xlabel(\"Longitude\")\n",
    "plt.ylabel(\"Latitude\")\n",
    "plt.show()"
   ]
  },
  {
   "cell_type": "code",
   "execution_count": 22,
   "id": "0f4bbcf8",
   "metadata": {},
   "outputs": [],
   "source": [
    "#Separación en train, test y validation (no es necesario estratificar en este caso porque la variable objetivo es numerica)\n",
    "data_train, test_val = train_test_split(data_bnb, test_size=0.4,random_state=123)\n",
    "data_test, data_valid = train_test_split(test_val,test_size=0.5,random_state=123)"
   ]
  },
  {
   "cell_type": "code",
   "execution_count": 23,
   "id": "31035165",
   "metadata": {},
   "outputs": [],
   "source": [
    "X_train = data_train.drop(columns='Price')\n",
    "Y_train = data_train['Price']\n",
    "\n",
    "X_test = data_test.drop(columns='Price')\n",
    "Y_test = data_test['Price']\n",
    "\n",
    "X_valid = data_valid.drop(columns='Price')\n",
    "Y_valid = data_valid['Price']"
   ]
  },
  {
   "cell_type": "code",
   "execution_count": 24,
   "id": "33c4ed42",
   "metadata": {},
   "outputs": [],
   "source": [
    "#Seleccionamos solo las datas numéricas para proceder con el modelo\n",
    "data_numericas = data_bnb[numericas]"
   ]
  },
  {
   "cell_type": "markdown",
   "id": "ab82eef5",
   "metadata": {},
   "source": [
    "**NORMALIZACION**"
   ]
  },
  {
   "cell_type": "code",
   "execution_count": 25,
   "id": "95bb6241",
   "metadata": {},
   "outputs": [],
   "source": [
    "scaler = StandardScaler()\n",
    "train_scaler = scaler.fit(data_numericas)\n",
    "\n",
    "data_numericas = pd.DataFrame(index=data_numericas.index, columns=data_numericas.columns,\n",
    "                              data=train_scaler.transform(data_numericas))"
   ]
  },
  {
   "cell_type": "code",
   "execution_count": 26,
   "id": "f30f73e3",
   "metadata": {},
   "outputs": [],
   "source": [
    "data_train, test_val = train_test_split(data_numericas, test_size=0.4,random_state=123)\n",
    "data_test, data_valid = train_test_split(test_val,test_size=0.5,random_state=123)"
   ]
  },
  {
   "cell_type": "code",
   "execution_count": 27,
   "id": "01ca2585",
   "metadata": {},
   "outputs": [],
   "source": [
    "X_train = data_train.drop(columns='Price')\n",
    "Y_train = data_train['Price']\n",
    "\n",
    "X_test = data_test.drop(columns='Price')\n",
    "Y_test = data_test['Price']\n",
    "\n",
    "X_valid = data_valid.drop(columns='Price')\n",
    "Y_valid = data_valid['Price']"
   ]
  },
  {
   "cell_type": "code",
   "execution_count": 28,
   "id": "ecffe84b",
   "metadata": {},
   "outputs": [],
   "source": [
    "#PCA para reducción de dimensión y outliers\n",
    "from sklearn.decomposition import PCA"
   ]
  },
  {
   "cell_type": "code",
   "execution_count": 29,
   "id": "488f1f1f",
   "metadata": {},
   "outputs": [],
   "source": [
    "pca = PCA(32, random_state=123, whiten=False)"
   ]
  },
  {
   "cell_type": "code",
   "execution_count": 30,
   "id": "49c5657b",
   "metadata": {},
   "outputs": [],
   "source": [
    "data_transformed = pca.fit_transform(data_train)"
   ]
  },
  {
   "cell_type": "code",
   "execution_count": 31,
   "id": "cacf406f",
   "metadata": {},
   "outputs": [
    {
     "data": {
      "text/plain": [
       "0.9999999999999999"
      ]
     },
     "execution_count": 31,
     "metadata": {},
     "output_type": "execute_result"
    }
   ],
   "source": [
    "sum(pca.explained_variance_ratio_)"
   ]
  },
  {
   "cell_type": "code",
   "execution_count": 32,
   "id": "335a4a18",
   "metadata": {},
   "outputs": [
    {
     "data": {
      "text/plain": [
       "<AxesSubplot:>"
      ]
     },
     "execution_count": 32,
     "metadata": {},
     "output_type": "execute_result"
    },
    {
     "data": {
      "image/png": "[encoded data removed]",
      "text/plain": [
       "<Figure size 432x288 with 1 Axes>"
      ]
     },
     "metadata": {
      "needs_background": "light"
     },
     "output_type": "display_data"
    }
   ],
   "source": [
    "#Representación de scatterplot\n",
    "sns.scatterplot(data_transformed[:,0], data_transformed[:,1])"
   ]
  },
  {
   "cell_type": "code",
   "execution_count": 33,
   "id": "9e63c510",
   "metadata": {},
   "outputs": [
    {
     "data": {
      "text/plain": [
       "-0.9565843287455008"
      ]
     },
     "execution_count": 33,
     "metadata": {},
     "output_type": "execute_result"
    }
   ],
   "source": [
    "data_transformed[0,0]"
   ]
  },
  {
   "cell_type": "code",
   "execution_count": 34,
   "id": "076c7c90",
   "metadata": {},
   "outputs": [
    {
     "data": {
      "text/plain": [
       "-2.604401113760846"
      ]
     },
     "execution_count": 34,
     "metadata": {},
     "output_type": "execute_result"
    }
   ],
   "source": [
    "data_train.iloc[0,0]"
   ]
  },
  {
   "cell_type": "code",
   "execution_count": 35,
   "id": "20aacb4b",
   "metadata": {},
   "outputs": [],
   "source": [
    "pc_1 = pca.components_[0,:]"
   ]
  },
  {
   "cell_type": "code",
   "execution_count": 36,
   "id": "01eb26e0",
   "metadata": {},
   "outputs": [],
   "source": [
    "x_1 = data_train.iloc[0,:].to_numpy()"
   ]
  },
  {
   "cell_type": "code",
   "execution_count": 37,
   "id": "dd408a0a",
   "metadata": {},
   "outputs": [
    {
     "data": {
      "text/plain": [
       "-0.9595219963672472"
      ]
     },
     "execution_count": 37,
     "metadata": {},
     "output_type": "execute_result"
    }
   ],
   "source": [
    "np.dot(pc_1, x_1)"
   ]
  },
  {
   "cell_type": "code",
   "execution_count": 38,
   "id": "88e2d22f",
   "metadata": {},
   "outputs": [
    {
     "data": {
      "text/plain": [
       "array([0.26855489, 0.37534296, 0.47681908, 0.5404609 , 0.59316704,\n",
       "       0.64258397, 0.68890138, 0.73245727, 0.7682828 , 0.80103652,\n",
       "       0.83243354, 0.86267566, 0.88776461, 0.90734547, 0.92611493,\n",
       "       0.94390412, 0.96118518, 0.97274871, 0.98356898, 0.99034894,\n",
       "       0.99458539, 0.99665806, 0.99846656, 0.99911384, 0.99957469,\n",
       "       0.99973305, 0.99980783, 0.99988041, 0.99994452, 0.99998099,\n",
       "       1.        , 1.        ])"
      ]
     },
     "execution_count": 38,
     "metadata": {},
     "output_type": "execute_result"
    }
   ],
   "source": [
    "np.cumsum(pca.explained_variance_ratio_)"
   ]
  },
  {
   "cell_type": "code",
   "execution_count": 39,
   "id": "dafcbf68",
   "metadata": {},
   "outputs": [
    {
     "data": {
      "text/plain": [
       "[13, 14, 15, 16, 17, 18, 19, 20, 21, 22, 23, 24, 25, 26, 27, 28, 29, 30, 31]"
      ]
     },
     "execution_count": 39,
     "metadata": {},
     "output_type": "execute_result"
    }
   ],
   "source": [
    "#Buscamos componentes que tengan mínimo un 90% de varianza explicada\n",
    "[i for i,el in enumerate(np.cumsum(pca.explained_variance_ratio_)) if el > 0.90]"
   ]
  },
  {
   "cell_type": "code",
   "execution_count": 40,
   "id": "ffcf25a9",
   "metadata": {},
   "outputs": [],
   "source": [
    "#Explicar ahora la varianza pero con 13 componentes\n",
    "pca = PCA(13, random_state=100,whiten=False)"
   ]
  },
  {
   "cell_type": "code",
   "execution_count": 41,
   "id": "e791ed80",
   "metadata": {},
   "outputs": [],
   "source": [
    "data_transformed = pca.fit_transform(data_train)"
   ]
  },
  {
   "cell_type": "code",
   "execution_count": 42,
   "id": "6ad1c308",
   "metadata": {},
   "outputs": [
    {
     "data": {
      "text/plain": [
       "array([0.26855489, 0.37534296, 0.47681908, 0.5404609 , 0.59316704,\n",
       "       0.64258397, 0.68890138, 0.73245727, 0.7682828 , 0.80103652,\n",
       "       0.83243354, 0.86267566, 0.88776461])"
      ]
     },
     "execution_count": 42,
     "metadata": {},
     "output_type": "execute_result"
    }
   ],
   "source": [
    "np.cumsum(pca.explained_variance_ratio_)"
   ]
  },
  {
   "cell_type": "code",
   "execution_count": 43,
   "id": "8a5a3927",
   "metadata": {},
   "outputs": [],
   "source": [
    "#Aplicar transformación inversa para comprobar la calidad de la recuperacion de los datos originales\n",
    "#y ver cómo de bueno es el PCA\n",
    "recovery_x = pca.inverse_transform(data_transformed)"
   ]
  },
  {
   "cell_type": "code",
   "execution_count": 44,
   "id": "251ecfae",
   "metadata": {},
   "outputs": [
    {
     "data": {
      "text/plain": [
       "(8868, 13)"
      ]
     },
     "execution_count": 44,
     "metadata": {},
     "output_type": "execute_result"
    }
   ],
   "source": [
    "data_transformed.shape"
   ]
  },
  {
   "cell_type": "code",
   "execution_count": 45,
   "id": "66cbdd98",
   "metadata": {},
   "outputs": [
    {
     "data": {
      "text/plain": [
       "(8868, 32)"
      ]
     },
     "execution_count": 45,
     "metadata": {},
     "output_type": "execute_result"
    }
   ],
   "source": [
    "recovery_x.shape"
   ]
  },
  {
   "cell_type": "code",
   "execution_count": 46,
   "id": "fefac3e6",
   "metadata": {},
   "outputs": [],
   "source": [
    "original_x = data_train.to_numpy()"
   ]
  },
  {
   "cell_type": "code",
   "execution_count": 47,
   "id": "26b11de0",
   "metadata": {},
   "outputs": [],
   "source": [
    "#Hacemos la resta al cuadrado de los valores originales menos los puntos recuperados para obtener el error \"score\"\n",
    "rest_x = (original_x - recovery_x)**2"
   ]
  },
  {
   "cell_type": "code",
   "execution_count": 48,
   "id": "f7a04145",
   "metadata": {},
   "outputs": [],
   "source": [
    "score = np.sum(rest_x,1)"
   ]
  },
  {
   "cell_type": "code",
   "execution_count": 49,
   "id": "9c426381",
   "metadata": {},
   "outputs": [
    {
     "data": {
      "text/plain": [
       "3.5768987219499206"
      ]
     },
     "execution_count": 49,
     "metadata": {},
     "output_type": "execute_result"
    }
   ],
   "source": [
    "score_mean = np.mean(score)\n",
    "score_mean"
   ]
  },
  {
   "cell_type": "code",
   "execution_count": 50,
   "id": "cfa22764",
   "metadata": {},
   "outputs": [],
   "source": [
    "score_std = np.std(score)"
   ]
  },
  {
   "cell_type": "code",
   "execution_count": 51,
   "id": "f0bf6cc5",
   "metadata": {},
   "outputs": [],
   "source": [
    "#Después de probar con varias opciones, he buscado outliers que sean 5 veces mayores a la media\n",
    "outliers = np.where(score>score_mean + 5*score_std)"
   ]
  },
  {
   "cell_type": "code",
   "execution_count": 52,
   "id": "9ee619db",
   "metadata": {},
   "outputs": [
    {
     "data": {
      "text/plain": [
       "(array([ 129,  489,  623,  656,  674,  694,  789,  792,  952, 1011, 1091,\n",
       "        1107, 1153, 1288, 1734, 1844, 1959, 2340, 2416, 2588, 2650, 2981,\n",
       "        2992, 3150, 3174, 3583, 3654, 3899, 4048, 4053, 4111, 4328, 4692,\n",
       "        4747, 5103, 5353, 5420, 5473, 5821, 6177, 6211, 6295, 6468, 6508,\n",
       "        6737, 6741, 6752, 6848, 7352, 7465, 7702, 7853, 7909, 8010, 8122,\n",
       "        8864], dtype=int64),)"
      ]
     },
     "execution_count": 52,
     "metadata": {},
     "output_type": "execute_result"
    }
   ],
   "source": [
    "#Y se obtienen 56 valores outliers\n",
    "outliers"
   ]
  },
  {
   "cell_type": "code",
   "execution_count": 53,
   "id": "1ffc030c",
   "metadata": {},
   "outputs": [
    {
     "data": {
      "text/html": [
       "<div>\n",
       "<style scoped>\n",
       "    .dataframe tbody tr th:only-of-type {\n",
       "        vertical-align: middle;\n",
       "    }\n",
       "\n",
       "    .dataframe tbody tr th {\n",
       "        vertical-align: top;\n",
       "    }\n",
       "\n",
       "    .dataframe thead th {\n",
       "        text-align: right;\n",
       "    }\n",
       "</style>\n",
       "<table border=\"1\" class=\"dataframe\">\n",
       "  <thead>\n",
       "    <tr style=\"text-align: right;\">\n",
       "      <th></th>\n",
       "      <th>Host Response Time</th>\n",
       "      <th>Host Response Rate</th>\n",
       "      <th>Host Listings Count</th>\n",
       "      <th>Host Total Listings Count</th>\n",
       "      <th>Latitude</th>\n",
       "      <th>Longitude</th>\n",
       "      <th>Accommodates</th>\n",
       "      <th>Bathrooms</th>\n",
       "      <th>Bedrooms</th>\n",
       "      <th>Beds</th>\n",
       "      <th>...</th>\n",
       "      <th>Number of Reviews</th>\n",
       "      <th>Review Scores Rating</th>\n",
       "      <th>Review Scores Accuracy</th>\n",
       "      <th>Review Scores Cleanliness</th>\n",
       "      <th>Review Scores Checkin</th>\n",
       "      <th>Review Scores Communication</th>\n",
       "      <th>Review Scores Location</th>\n",
       "      <th>Review Scores Value</th>\n",
       "      <th>Calculated host listings count</th>\n",
       "      <th>Reviews per Month</th>\n",
       "    </tr>\n",
       "    <tr>\n",
       "      <th>ID</th>\n",
       "      <th></th>\n",
       "      <th></th>\n",
       "      <th></th>\n",
       "      <th></th>\n",
       "      <th></th>\n",
       "      <th></th>\n",
       "      <th></th>\n",
       "      <th></th>\n",
       "      <th></th>\n",
       "      <th></th>\n",
       "      <th></th>\n",
       "      <th></th>\n",
       "      <th></th>\n",
       "      <th></th>\n",
       "      <th></th>\n",
       "      <th></th>\n",
       "      <th></th>\n",
       "      <th></th>\n",
       "      <th></th>\n",
       "      <th></th>\n",
       "      <th></th>\n",
       "    </tr>\n",
       "  </thead>\n",
       "  <tbody>\n",
       "    <tr>\n",
       "      <th>1160005</th>\n",
       "      <td>0.381423</td>\n",
       "      <td>0.408928</td>\n",
       "      <td>0.160373</td>\n",
       "      <td>0.160373</td>\n",
       "      <td>-0.018974</td>\n",
       "      <td>0.011221</td>\n",
       "      <td>-0.132465</td>\n",
       "      <td>-16.358581</td>\n",
       "      <td>0.024450</td>\n",
       "      <td>0.021456</td>\n",
       "      <td>...</td>\n",
       "      <td>-0.147099</td>\n",
       "      <td>0.545625</td>\n",
       "      <td>0.541609</td>\n",
       "      <td>0.536689</td>\n",
       "      <td>0.537097</td>\n",
       "      <td>0.539898</td>\n",
       "      <td>0.537831</td>\n",
       "      <td>0.539407</td>\n",
       "      <td>0.345149</td>\n",
       "      <td>0.515506</td>\n",
       "    </tr>\n",
       "    <tr>\n",
       "      <th>502918</th>\n",
       "      <td>0.387359</td>\n",
       "      <td>0.408928</td>\n",
       "      <td>-0.327310</td>\n",
       "      <td>-0.327310</td>\n",
       "      <td>-0.018537</td>\n",
       "      <td>0.011646</td>\n",
       "      <td>-1.086108</td>\n",
       "      <td>0.051873</td>\n",
       "      <td>0.024450</td>\n",
       "      <td>0.021456</td>\n",
       "      <td>...</td>\n",
       "      <td>-0.120982</td>\n",
       "      <td>0.561843</td>\n",
       "      <td>0.541609</td>\n",
       "      <td>0.541394</td>\n",
       "      <td>0.541790</td>\n",
       "      <td>0.539898</td>\n",
       "      <td>0.542524</td>\n",
       "      <td>0.544102</td>\n",
       "      <td>-0.333099</td>\n",
       "      <td>0.520219</td>\n",
       "    </tr>\n",
       "    <tr>\n",
       "      <th>6899113</th>\n",
       "      <td>-2.604401</td>\n",
       "      <td>-2.597821</td>\n",
       "      <td>-14.699589</td>\n",
       "      <td>-14.699589</td>\n",
       "      <td>-0.012595</td>\n",
       "      <td>0.010713</td>\n",
       "      <td>-1.086108</td>\n",
       "      <td>0.051873</td>\n",
       "      <td>0.024450</td>\n",
       "      <td>0.021456</td>\n",
       "      <td>...</td>\n",
       "      <td>-0.591092</td>\n",
       "      <td>-1.862736</td>\n",
       "      <td>-1.855728</td>\n",
       "      <td>-1.857888</td>\n",
       "      <td>-1.851780</td>\n",
       "      <td>-1.857895</td>\n",
       "      <td>-1.850707</td>\n",
       "      <td>-1.850344</td>\n",
       "      <td>-0.333099</td>\n",
       "      <td>-1.916773</td>\n",
       "    </tr>\n",
       "    <tr>\n",
       "      <th>11360130</th>\n",
       "      <td>0.375487</td>\n",
       "      <td>0.388883</td>\n",
       "      <td>-0.327310</td>\n",
       "      <td>-0.327310</td>\n",
       "      <td>2.794286</td>\n",
       "      <td>0.113251</td>\n",
       "      <td>-0.609287</td>\n",
       "      <td>0.051873</td>\n",
       "      <td>0.024450</td>\n",
       "      <td>0.021456</td>\n",
       "      <td>...</td>\n",
       "      <td>-0.486623</td>\n",
       "      <td>0.541570</td>\n",
       "      <td>0.541609</td>\n",
       "      <td>0.541394</td>\n",
       "      <td>0.541790</td>\n",
       "      <td>0.535196</td>\n",
       "      <td>0.537831</td>\n",
       "      <td>0.539407</td>\n",
       "      <td>-20.321492</td>\n",
       "      <td>0.524251</td>\n",
       "    </tr>\n",
       "    <tr>\n",
       "      <th>1518589</th>\n",
       "      <td>0.375487</td>\n",
       "      <td>0.388883</td>\n",
       "      <td>3.861019</td>\n",
       "      <td>3.861019</td>\n",
       "      <td>-0.177482</td>\n",
       "      <td>0.481980</td>\n",
       "      <td>6.066218</td>\n",
       "      <td>0.182895</td>\n",
       "      <td>0.363907</td>\n",
       "      <td>0.471222</td>\n",
       "      <td>...</td>\n",
       "      <td>-0.460506</td>\n",
       "      <td>0.537516</td>\n",
       "      <td>0.536909</td>\n",
       "      <td>0.541394</td>\n",
       "      <td>0.537097</td>\n",
       "      <td>0.539898</td>\n",
       "      <td>0.533139</td>\n",
       "      <td>0.539407</td>\n",
       "      <td>4.773715</td>\n",
       "      <td>0.513174</td>\n",
       "    </tr>\n",
       "    <tr>\n",
       "      <th>696928</th>\n",
       "      <td>0.387359</td>\n",
       "      <td>0.408928</td>\n",
       "      <td>-0.298622</td>\n",
       "      <td>-0.298622</td>\n",
       "      <td>-0.014457</td>\n",
       "      <td>0.013119</td>\n",
       "      <td>-0.132465</td>\n",
       "      <td>0.051873</td>\n",
       "      <td>0.024450</td>\n",
       "      <td>-17.311841</td>\n",
       "      <td>...</td>\n",
       "      <td>-0.408271</td>\n",
       "      <td>0.513189</td>\n",
       "      <td>0.532208</td>\n",
       "      <td>0.536689</td>\n",
       "      <td>0.537097</td>\n",
       "      <td>0.539898</td>\n",
       "      <td>0.542524</td>\n",
       "      <td>0.530017</td>\n",
       "      <td>-0.293202</td>\n",
       "      <td>0.517449</td>\n",
       "    </tr>\n",
       "    <tr>\n",
       "      <th>6312250</th>\n",
       "      <td>0.381423</td>\n",
       "      <td>0.283647</td>\n",
       "      <td>4.348701</td>\n",
       "      <td>4.348701</td>\n",
       "      <td>-0.015349</td>\n",
       "      <td>0.010340</td>\n",
       "      <td>0.344357</td>\n",
       "      <td>0.051873</td>\n",
       "      <td>-24.270920</td>\n",
       "      <td>0.056053</td>\n",
       "      <td>...</td>\n",
       "      <td>-0.591092</td>\n",
       "      <td>-1.862736</td>\n",
       "      <td>-1.855728</td>\n",
       "      <td>-1.857888</td>\n",
       "      <td>-1.851780</td>\n",
       "      <td>-1.857895</td>\n",
       "      <td>-1.850707</td>\n",
       "      <td>-1.850344</td>\n",
       "      <td>5.412067</td>\n",
       "      <td>-1.916773</td>\n",
       "    </tr>\n",
       "    <tr>\n",
       "      <th>1101760</th>\n",
       "      <td>0.387359</td>\n",
       "      <td>0.408928</td>\n",
       "      <td>-0.212561</td>\n",
       "      <td>-0.212561</td>\n",
       "      <td>-0.018438</td>\n",
       "      <td>0.011414</td>\n",
       "      <td>0.344357</td>\n",
       "      <td>0.051873</td>\n",
       "      <td>0.024450</td>\n",
       "      <td>0.056053</td>\n",
       "      <td>...</td>\n",
       "      <td>4.318941</td>\n",
       "      <td>0.549679</td>\n",
       "      <td>0.541609</td>\n",
       "      <td>0.536689</td>\n",
       "      <td>0.541790</td>\n",
       "      <td>0.539898</td>\n",
       "      <td>0.542524</td>\n",
       "      <td>0.544102</td>\n",
       "      <td>-0.173511</td>\n",
       "      <td>0.531685</td>\n",
       "    </tr>\n",
       "    <tr>\n",
       "      <th>1605637</th>\n",
       "      <td>0.387359</td>\n",
       "      <td>0.408928</td>\n",
       "      <td>-0.126499</td>\n",
       "      <td>-0.126499</td>\n",
       "      <td>-0.016323</td>\n",
       "      <td>0.011221</td>\n",
       "      <td>0.344357</td>\n",
       "      <td>0.051873</td>\n",
       "      <td>-24.270920</td>\n",
       "      <td>0.056053</td>\n",
       "      <td>...</td>\n",
       "      <td>4.057769</td>\n",
       "      <td>0.517243</td>\n",
       "      <td>0.536909</td>\n",
       "      <td>0.536689</td>\n",
       "      <td>0.541790</td>\n",
       "      <td>0.539898</td>\n",
       "      <td>0.542524</td>\n",
       "      <td>0.539407</td>\n",
       "      <td>-0.053820</td>\n",
       "      <td>0.532657</td>\n",
       "    </tr>\n",
       "    <tr>\n",
       "      <th>546909</th>\n",
       "      <td>0.381423</td>\n",
       "      <td>0.358816</td>\n",
       "      <td>-0.269935</td>\n",
       "      <td>-0.269935</td>\n",
       "      <td>-0.201810</td>\n",
       "      <td>0.479533</td>\n",
       "      <td>-0.609287</td>\n",
       "      <td>-16.358581</td>\n",
       "      <td>0.024450</td>\n",
       "      <td>0.021456</td>\n",
       "      <td>...</td>\n",
       "      <td>-0.434388</td>\n",
       "      <td>0.569952</td>\n",
       "      <td>0.541609</td>\n",
       "      <td>0.541394</td>\n",
       "      <td>0.541790</td>\n",
       "      <td>0.539898</td>\n",
       "      <td>0.542524</td>\n",
       "      <td>0.539407</td>\n",
       "      <td>-0.293202</td>\n",
       "      <td>0.513514</td>\n",
       "    </tr>\n",
       "  </tbody>\n",
       "</table>\n",
       "<p>10 rows × 32 columns</p>\n",
       "</div>"
      ],
      "text/plain": [
       "          Host Response Time  Host Response Rate  Host Listings Count  \\\n",
       "ID                                                                      \n",
       "1160005             0.381423            0.408928             0.160373   \n",
       "502918              0.387359            0.408928            -0.327310   \n",
       "6899113            -2.604401           -2.597821           -14.699589   \n",
       "11360130            0.375487            0.388883            -0.327310   \n",
       "1518589             0.375487            0.388883             3.861019   \n",
       "696928              0.387359            0.408928            -0.298622   \n",
       "6312250             0.381423            0.283647             4.348701   \n",
       "1101760             0.387359            0.408928            -0.212561   \n",
       "1605637             0.387359            0.408928            -0.126499   \n",
       "546909              0.381423            0.358816            -0.269935   \n",
       "\n",
       "          Host Total Listings Count  Latitude  Longitude  Accommodates  \\\n",
       "ID                                                                       \n",
       "1160005                    0.160373 -0.018974   0.011221     -0.132465   \n",
       "502918                    -0.327310 -0.018537   0.011646     -1.086108   \n",
       "6899113                  -14.699589 -0.012595   0.010713     -1.086108   \n",
       "11360130                  -0.327310  2.794286   0.113251     -0.609287   \n",
       "1518589                    3.861019 -0.177482   0.481980      6.066218   \n",
       "696928                    -0.298622 -0.014457   0.013119     -0.132465   \n",
       "6312250                    4.348701 -0.015349   0.010340      0.344357   \n",
       "1101760                   -0.212561 -0.018438   0.011414      0.344357   \n",
       "1605637                   -0.126499 -0.016323   0.011221      0.344357   \n",
       "546909                    -0.269935 -0.201810   0.479533     -0.609287   \n",
       "\n",
       "          Bathrooms   Bedrooms       Beds  ...  Number of Reviews  \\\n",
       "ID                                         ...                      \n",
       "1160005  -16.358581   0.024450   0.021456  ...          -0.147099   \n",
       "502918     0.051873   0.024450   0.021456  ...          -0.120982   \n",
       "6899113    0.051873   0.024450   0.021456  ...          -0.591092   \n",
       "11360130   0.051873   0.024450   0.021456  ...          -0.486623   \n",
       "1518589    0.182895   0.363907   0.471222  ...          -0.460506   \n",
       "696928     0.051873   0.024450 -17.311841  ...          -0.408271   \n",
       "6312250    0.051873 -24.270920   0.056053  ...          -0.591092   \n",
       "1101760    0.051873   0.024450   0.056053  ...           4.318941   \n",
       "1605637    0.051873 -24.270920   0.056053  ...           4.057769   \n",
       "546909   -16.358581   0.024450   0.021456  ...          -0.434388   \n",
       "\n",
       "          Review Scores Rating  Review Scores Accuracy  \\\n",
       "ID                                                       \n",
       "1160005               0.545625                0.541609   \n",
       "502918                0.561843                0.541609   \n",
       "6899113              -1.862736               -1.855728   \n",
       "11360130              0.541570                0.541609   \n",
       "1518589               0.537516                0.536909   \n",
       "696928                0.513189                0.532208   \n",
       "6312250              -1.862736               -1.855728   \n",
       "1101760               0.549679                0.541609   \n",
       "1605637               0.517243                0.536909   \n",
       "546909                0.569952                0.541609   \n",
       "\n",
       "          Review Scores Cleanliness  Review Scores Checkin  \\\n",
       "ID                                                           \n",
       "1160005                    0.536689               0.537097   \n",
       "502918                     0.541394               0.541790   \n",
       "6899113                   -1.857888              -1.851780   \n",
       "11360130                   0.541394               0.541790   \n",
       "1518589                    0.541394               0.537097   \n",
       "696928                     0.536689               0.537097   \n",
       "6312250                   -1.857888              -1.851780   \n",
       "1101760                    0.536689               0.541790   \n",
       "1605637                    0.536689               0.541790   \n",
       "546909                     0.541394               0.541790   \n",
       "\n",
       "          Review Scores Communication  Review Scores Location  \\\n",
       "ID                                                              \n",
       "1160005                      0.539898                0.537831   \n",
       "502918                       0.539898                0.542524   \n",
       "6899113                     -1.857895               -1.850707   \n",
       "11360130                     0.535196                0.537831   \n",
       "1518589                      0.539898                0.533139   \n",
       "696928                       0.539898                0.542524   \n",
       "6312250                     -1.857895               -1.850707   \n",
       "1101760                      0.539898                0.542524   \n",
       "1605637                      0.539898                0.542524   \n",
       "546909                       0.539898                0.542524   \n",
       "\n",
       "          Review Scores Value  Calculated host listings count  \\\n",
       "ID                                                              \n",
       "1160005              0.539407                        0.345149   \n",
       "502918               0.544102                       -0.333099   \n",
       "6899113             -1.850344                       -0.333099   \n",
       "11360130             0.539407                      -20.321492   \n",
       "1518589              0.539407                        4.773715   \n",
       "696928               0.530017                       -0.293202   \n",
       "6312250             -1.850344                        5.412067   \n",
       "1101760              0.544102                       -0.173511   \n",
       "1605637              0.539407                       -0.053820   \n",
       "546909               0.539407                       -0.293202   \n",
       "\n",
       "          Reviews per Month  \n",
       "ID                           \n",
       "1160005            0.515506  \n",
       "502918             0.520219  \n",
       "6899113           -1.916773  \n",
       "11360130           0.524251  \n",
       "1518589            0.513174  \n",
       "696928             0.517449  \n",
       "6312250           -1.916773  \n",
       "1101760            0.531685  \n",
       "1605637            0.532657  \n",
       "546909             0.513514  \n",
       "\n",
       "[10 rows x 32 columns]"
      ]
     },
     "execution_count": 53,
     "metadata": {},
     "output_type": "execute_result"
    }
   ],
   "source": [
    "#Localizamos con la función iloc las columnas asociadas a cada outlier detectado (mostrar solo los 10 primeros)\n",
    "data_train.iloc[outliers].head(10)"
   ]
  },
  {
   "cell_type": "code",
   "execution_count": 54,
   "id": "18d6b995",
   "metadata": {},
   "outputs": [
    {
     "data": {
      "text/plain": [
       "<AxesSubplot:>"
      ]
     },
     "execution_count": 54,
     "metadata": {},
     "output_type": "execute_result"
    },
    {
     "data": {
      "image/png": "[encoded data removed]",
      "text/plain": [
       "<Figure size 432x288 with 1 Axes>"
      ]
     },
     "metadata": {
      "needs_background": "light"
     },
     "output_type": "display_data"
    }
   ],
   "source": [
    "#Para identificar visualmente los outliers en un scatterplot\n",
    "mark_outlier = np.where(score>score_mean + 5*score_std, True, False)\n",
    "sns.scatterplot(data_transformed[:,0],data_transformed[:,1],hue=mark_outlier)"
   ]
  },
  {
   "cell_type": "markdown",
   "id": "73103fad",
   "metadata": {},
   "source": [
    "**XGBoost**"
   ]
  },
  {
   "cell_type": "code",
   "execution_count": 97,
   "id": "e3122323",
   "metadata": {},
   "outputs": [],
   "source": [
    "import xgboost as xgb"
   ]
  },
  {
   "cell_type": "code",
   "execution_count": 98,
   "id": "e7753309",
   "metadata": {},
   "outputs": [],
   "source": [
    "reg = xgb.XGBRegressor(n_estimators=31, objective='reg:squarederror')"
   ]
  },
  {
   "cell_type": "code",
   "execution_count": 100,
   "id": "a5131c40",
   "metadata": {},
   "outputs": [
    {
     "data": {
      "text/html": [
       "<style>#sk-container-id-3 {color: black;background-color: white;}#sk-container-id-3 pre{padding: 0;}#sk-container-id-3 div.sk-toggleable {background-color: white;}#sk-container-id-3 label.sk-toggleable__label {cursor: pointer;display: block;width: 100%;margin-bottom: 0;padding: 0.3em;box-sizing: border-box;text-align: center;}#sk-container-id-3 label.sk-toggleable__label-arrow:before {content: \"▸\";float: left;margin-right: 0.25em;color: #696969;}#sk-container-id-3 label.sk-toggleable__label-arrow:hover:before {color: black;}#sk-container-id-3 div.sk-estimator:hover label.sk-toggleable__label-arrow:before {color: black;}#sk-container-id-3 div.sk-toggleable__content {max-height: 0;max-width: 0;overflow: hidden;text-align: left;background-color: #f0f8ff;}#sk-container-id-3 div.sk-toggleable__content pre {margin: 0.2em;color: black;border-radius: 0.25em;background-color: #f0f8ff;}#sk-container-id-3 input.sk-toggleable__control:checked~div.sk-toggleable__content {max-height: 200px;max-width: 100%;overflow: auto;}#sk-container-id-3 input.sk-toggleable__control:checked~label.sk-toggleable__label-arrow:before {content: \"▾\";}#sk-container-id-3 div.sk-estimator input.sk-toggleable__control:checked~label.sk-toggleable__label {background-color: #d4ebff;}#sk-container-id-3 div.sk-label input.sk-toggleable__control:checked~label.sk-toggleable__label {background-color: #d4ebff;}#sk-container-id-3 input.sk-hidden--visually {border: 0;clip: rect(1px 1px 1px 1px);clip: rect(1px, 1px, 1px, 1px);height: 1px;margin: -1px;overflow: hidden;padding: 0;position: absolute;width: 1px;}#sk-container-id-3 div.sk-estimator {font-family: monospace;background-color: #f0f8ff;border: 1px dotted black;border-radius: 0.25em;box-sizing: border-box;margin-bottom: 0.5em;}#sk-container-id-3 div.sk-estimator:hover {background-color: #d4ebff;}#sk-container-id-3 div.sk-parallel-item::after {content: \"\";width: 100%;border-bottom: 1px solid gray;flex-grow: 1;}#sk-container-id-3 div.sk-label:hover label.sk-toggleable__label {background-color: #d4ebff;}#sk-container-id-3 div.sk-serial::before {content: \"\";position: absolute;border-left: 1px solid gray;box-sizing: border-box;top: 0;bottom: 0;left: 50%;z-index: 0;}#sk-container-id-3 div.sk-serial {display: flex;flex-direction: column;align-items: center;background-color: white;padding-right: 0.2em;padding-left: 0.2em;position: relative;}#sk-container-id-3 div.sk-item {position: relative;z-index: 1;}#sk-container-id-3 div.sk-parallel {display: flex;align-items: stretch;justify-content: center;background-color: white;position: relative;}#sk-container-id-3 div.sk-item::before, #sk-container-id-3 div.sk-parallel-item::before {content: \"\";position: absolute;border-left: 1px solid gray;box-sizing: border-box;top: 0;bottom: 0;left: 50%;z-index: -1;}#sk-container-id-3 div.sk-parallel-item {display: flex;flex-direction: column;z-index: 1;position: relative;background-color: white;}#sk-container-id-3 div.sk-parallel-item:first-child::after {align-self: flex-end;width: 50%;}#sk-container-id-3 div.sk-parallel-item:last-child::after {align-self: flex-start;width: 50%;}#sk-container-id-3 div.sk-parallel-item:only-child::after {width: 0;}#sk-container-id-3 div.sk-dashed-wrapped {border: 1px dashed gray;margin: 0 0.4em 0.5em 0.4em;box-sizing: border-box;padding-bottom: 0.4em;background-color: white;}#sk-container-id-3 div.sk-label label {font-family: monospace;font-weight: bold;display: inline-block;line-height: 1.2em;}#sk-container-id-3 div.sk-label-container {text-align: center;}#sk-container-id-3 div.sk-container {/* jupyter's `normalize.less` sets `[hidden] { display: none; }` but bootstrap.min.css set `[hidden] { display: none !important; }` so we also need the `!important` here to be able to override the default hidden behavior on the sphinx rendered scikit-learn.org. See: https://github.com/scikit-learn/scikit-learn/issues/21755 */display: inline-block !important;position: relative;}#sk-container-id-3 div.sk-text-repr-fallback {display: none;}</style><div id=\"sk-container-id-3\" class=\"sk-top-container\"><div class=\"sk-text-repr-fallback\"><pre>XGBRegressor(base_score=0.5, booster=&#x27;gbtree&#x27;, callbacks=None,\n",
       "             colsample_bylevel=1, colsample_bynode=1, colsample_bytree=1,\n",
       "             early_stopping_rounds=None, enable_categorical=False,\n",
       "             eval_metric=None, gamma=0, gpu_id=-1, grow_policy=&#x27;depthwise&#x27;,\n",
       "             importance_type=None, interaction_constraints=&#x27;&#x27;,\n",
       "             learning_rate=0.300000012, max_bin=256, max_cat_to_onehot=4,\n",
       "             max_delta_step=0, max_depth=6, max_leaves=0, min_child_weight=1,\n",
       "             missing=nan, monotone_constraints=&#x27;()&#x27;, n_estimators=31, n_jobs=0,\n",
       "             num_parallel_tree=1, predictor=&#x27;auto&#x27;, random_state=0, reg_alpha=0,\n",
       "             reg_lambda=1, ...)</pre><b>In a Jupyter environment, please rerun this cell to show the HTML representation or trust the notebook. <br />On GitHub, the HTML representation is unable to render, please try loading this page with nbviewer.org.</b></div><div class=\"sk-container\" hidden><div class=\"sk-item\"><div class=\"sk-estimator sk-toggleable\"><input class=\"sk-toggleable__control sk-hidden--visually\" id=\"sk-estimator-id-3\" type=\"checkbox\" checked><label for=\"sk-estimator-id-3\" class=\"sk-toggleable__label sk-toggleable__label-arrow\">XGBRegressor</label><div class=\"sk-toggleable__content\"><pre>XGBRegressor(base_score=0.5, booster=&#x27;gbtree&#x27;, callbacks=None,\n",
       "             colsample_bylevel=1, colsample_bynode=1, colsample_bytree=1,\n",
       "             early_stopping_rounds=None, enable_categorical=False,\n",
       "             eval_metric=None, gamma=0, gpu_id=-1, grow_policy=&#x27;depthwise&#x27;,\n",
       "             importance_type=None, interaction_constraints=&#x27;&#x27;,\n",
       "             learning_rate=0.300000012, max_bin=256, max_cat_to_onehot=4,\n",
       "             max_delta_step=0, max_depth=6, max_leaves=0, min_child_weight=1,\n",
       "             missing=nan, monotone_constraints=&#x27;()&#x27;, n_estimators=31, n_jobs=0,\n",
       "             num_parallel_tree=1, predictor=&#x27;auto&#x27;, random_state=0, reg_alpha=0,\n",
       "             reg_lambda=1, ...)</pre></div></div></div></div></div>"
      ],
      "text/plain": [
       "XGBRegressor(base_score=0.5, booster='gbtree', callbacks=None,\n",
       "             colsample_bylevel=1, colsample_bynode=1, colsample_bytree=1,\n",
       "             early_stopping_rounds=None, enable_categorical=False,\n",
       "             eval_metric=None, gamma=0, gpu_id=-1, grow_policy='depthwise',\n",
       "             importance_type=None, interaction_constraints='',\n",
       "             learning_rate=0.300000012, max_bin=256, max_cat_to_onehot=4,\n",
       "             max_delta_step=0, max_depth=6, max_leaves=0, min_child_weight=1,\n",
       "             missing=nan, monotone_constraints='()', n_estimators=31, n_jobs=0,\n",
       "             num_parallel_tree=1, predictor='auto', random_state=0, reg_alpha=0,\n",
       "             reg_lambda=1, ...)"
      ]
     },
     "execution_count": 100,
     "metadata": {},
     "output_type": "execute_result"
    }
   ],
   "source": [
    "reg.fit(X_train, Y_train)"
   ]
  },
  {
   "cell_type": "code",
   "execution_count": 101,
   "id": "f6b4ebf1",
   "metadata": {},
   "outputs": [
    {
     "data": {
      "text/plain": [
       "0.8730370862730344"
      ]
     },
     "execution_count": 101,
     "metadata": {},
     "output_type": "execute_result"
    }
   ],
   "source": [
    "reg.score(X_train, Y_train)"
   ]
  },
  {
   "cell_type": "code",
   "execution_count": 102,
   "id": "b6650a3d",
   "metadata": {},
   "outputs": [
    {
     "data": {
      "text/plain": [
       "0.28460533225880535"
      ]
     },
     "execution_count": 102,
     "metadata": {},
     "output_type": "execute_result"
    }
   ],
   "source": [
    "reg.score(X_test, Y_test)"
   ]
  },
  {
   "cell_type": "code",
   "execution_count": 60,
   "id": "a1f662b3",
   "metadata": {},
   "outputs": [
    {
     "data": {
      "text/plain": [
       "0.8549552673409325"
      ]
     },
     "execution_count": 60,
     "metadata": {},
     "output_type": "execute_result"
    }
   ],
   "source": [
    "rmse_xgboost = mean_squared_error(Y_test, reg.predict(X_test), squared=False)\n",
    "rmse_xgboost"
   ]
  },
  {
   "cell_type": "code",
   "execution_count": 61,
   "id": "9618767c",
   "metadata": {},
   "outputs": [
    {
     "data": {
      "text/plain": [
       "21.38"
      ]
     },
     "execution_count": 61,
     "metadata": {},
     "output_type": "execute_result"
    }
   ],
   "source": [
    "xgboost_error = round(np.mean(100*np.sqrt((Y_test - reg.predict(X_test))**2)/Y_test),2)\n",
    "xgboost_error"
   ]
  },
  {
   "cell_type": "code",
   "execution_count": 62,
   "id": "b9cd76e5",
   "metadata": {},
   "outputs": [],
   "source": [
    "predicted_xgboost = reg.predict(X_test)"
   ]
  },
  {
   "cell_type": "code",
   "execution_count": 63,
   "id": "b6bab8f2",
   "metadata": {},
   "outputs": [
    {
     "data": {
      "text/plain": [
       "array([-0.05085997,  0.07840893, -0.05614967, ..., -0.49511912,\n",
       "        0.21759942,  0.0379765 ], dtype=float32)"
      ]
     },
     "execution_count": 63,
     "metadata": {},
     "output_type": "execute_result"
    }
   ],
   "source": [
    "predicted_xgboost"
   ]
  },
  {
   "cell_type": "code",
   "execution_count": 103,
   "id": "05a91382",
   "metadata": {},
   "outputs": [],
   "source": [
    "#Features importances\n",
    "importance = reg.feature_importances_"
   ]
  },
  {
   "cell_type": "code",
   "execution_count": 104,
   "id": "767429f6",
   "metadata": {},
   "outputs": [
    {
     "name": "stdout",
     "output_type": "stream",
     "text": [
      "Feature: 0, Score: 0.02002\n",
      "Feature: 1, Score: 0.00737\n",
      "Feature: 2, Score: 0.01845\n",
      "Feature: 3, Score: 0.00000\n",
      "Feature: 4, Score: 0.02351\n",
      "Feature: 5, Score: 0.02203\n",
      "Feature: 6, Score: 0.08738\n",
      "Feature: 7, Score: 0.09454\n",
      "Feature: 8, Score: 0.28351\n",
      "Feature: 9, Score: 0.01076\n",
      "Feature: 10, Score: 0.01201\n",
      "Feature: 11, Score: 0.02016\n",
      "Feature: 12, Score: 0.08005\n",
      "Feature: 13, Score: 0.03274\n",
      "Feature: 14, Score: 0.03806\n",
      "Feature: 15, Score: 0.01211\n",
      "Feature: 16, Score: 0.02044\n",
      "Feature: 17, Score: 0.02635\n",
      "Feature: 18, Score: 0.02678\n",
      "Feature: 19, Score: 0.02264\n",
      "Feature: 20, Score: 0.02860\n",
      "Feature: 21, Score: 0.01343\n",
      "Feature: 22, Score: 0.00748\n",
      "Feature: 23, Score: 0.00560\n",
      "Feature: 24, Score: 0.00902\n",
      "Feature: 25, Score: 0.00802\n",
      "Feature: 26, Score: 0.00000\n",
      "Feature: 27, Score: 0.01326\n",
      "Feature: 28, Score: 0.00562\n",
      "Feature: 29, Score: 0.00931\n",
      "Feature: 30, Score: 0.04077\n"
     ]
    }
   ],
   "source": [
    "for i,v in enumerate(importance):\n",
    "    print('Feature: %0d, Score: %.5f' % (i,v))"
   ]
  },
  {
   "cell_type": "code",
   "execution_count": 107,
   "id": "c65974ea",
   "metadata": {},
   "outputs": [
    {
     "data": {
      "image/png": "[encoded data removed]",
      "text/plain": [
       "<Figure size 432x288 with 1 Axes>"
      ]
     },
     "metadata": {
      "needs_background": "light"
     },
     "output_type": "display_data"
    }
   ],
   "source": [
    "pyplot.bar([x for x in range(len(importance))], importance)\n",
    "pyplot.show()"
   ]
  },
  {
   "cell_type": "markdown",
   "id": "a54abdb7",
   "metadata": {},
   "source": [
    "**GradientBoost**"
   ]
  },
  {
   "cell_type": "code",
   "execution_count": 64,
   "id": "9af59da4",
   "metadata": {},
   "outputs": [],
   "source": [
    "from sklearn.ensemble import GradientBoostingRegressor"
   ]
  },
  {
   "cell_type": "code",
   "execution_count": 65,
   "id": "33f7391a",
   "metadata": {},
   "outputs": [],
   "source": [
    "boost = GradientBoostingRegressor()"
   ]
  },
  {
   "cell_type": "code",
   "execution_count": 66,
   "id": "06642121",
   "metadata": {},
   "outputs": [
    {
     "data": {
      "text/html": [
       "<style>#sk-container-id-2 {color: black;background-color: white;}#sk-container-id-2 pre{padding: 0;}#sk-container-id-2 div.sk-toggleable {background-color: white;}#sk-container-id-2 label.sk-toggleable__label {cursor: pointer;display: block;width: 100%;margin-bottom: 0;padding: 0.3em;box-sizing: border-box;text-align: center;}#sk-container-id-2 label.sk-toggleable__label-arrow:before {content: \"▸\";float: left;margin-right: 0.25em;color: #696969;}#sk-container-id-2 label.sk-toggleable__label-arrow:hover:before {color: black;}#sk-container-id-2 div.sk-estimator:hover label.sk-toggleable__label-arrow:before {color: black;}#sk-container-id-2 div.sk-toggleable__content {max-height: 0;max-width: 0;overflow: hidden;text-align: left;background-color: #f0f8ff;}#sk-container-id-2 div.sk-toggleable__content pre {margin: 0.2em;color: black;border-radius: 0.25em;background-color: #f0f8ff;}#sk-container-id-2 input.sk-toggleable__control:checked~div.sk-toggleable__content {max-height: 200px;max-width: 100%;overflow: auto;}#sk-container-id-2 input.sk-toggleable__control:checked~label.sk-toggleable__label-arrow:before {content: \"▾\";}#sk-container-id-2 div.sk-estimator input.sk-toggleable__control:checked~label.sk-toggleable__label {background-color: #d4ebff;}#sk-container-id-2 div.sk-label input.sk-toggleable__control:checked~label.sk-toggleable__label {background-color: #d4ebff;}#sk-container-id-2 input.sk-hidden--visually {border: 0;clip: rect(1px 1px 1px 1px);clip: rect(1px, 1px, 1px, 1px);height: 1px;margin: -1px;overflow: hidden;padding: 0;position: absolute;width: 1px;}#sk-container-id-2 div.sk-estimator {font-family: monospace;background-color: #f0f8ff;border: 1px dotted black;border-radius: 0.25em;box-sizing: border-box;margin-bottom: 0.5em;}#sk-container-id-2 div.sk-estimator:hover {background-color: #d4ebff;}#sk-container-id-2 div.sk-parallel-item::after {content: \"\";width: 100%;border-bottom: 1px solid gray;flex-grow: 1;}#sk-container-id-2 div.sk-label:hover label.sk-toggleable__label {background-color: #d4ebff;}#sk-container-id-2 div.sk-serial::before {content: \"\";position: absolute;border-left: 1px solid gray;box-sizing: border-box;top: 0;bottom: 0;left: 50%;z-index: 0;}#sk-container-id-2 div.sk-serial {display: flex;flex-direction: column;align-items: center;background-color: white;padding-right: 0.2em;padding-left: 0.2em;position: relative;}#sk-container-id-2 div.sk-item {position: relative;z-index: 1;}#sk-container-id-2 div.sk-parallel {display: flex;align-items: stretch;justify-content: center;background-color: white;position: relative;}#sk-container-id-2 div.sk-item::before, #sk-container-id-2 div.sk-parallel-item::before {content: \"\";position: absolute;border-left: 1px solid gray;box-sizing: border-box;top: 0;bottom: 0;left: 50%;z-index: -1;}#sk-container-id-2 div.sk-parallel-item {display: flex;flex-direction: column;z-index: 1;position: relative;background-color: white;}#sk-container-id-2 div.sk-parallel-item:first-child::after {align-self: flex-end;width: 50%;}#sk-container-id-2 div.sk-parallel-item:last-child::after {align-self: flex-start;width: 50%;}#sk-container-id-2 div.sk-parallel-item:only-child::after {width: 0;}#sk-container-id-2 div.sk-dashed-wrapped {border: 1px dashed gray;margin: 0 0.4em 0.5em 0.4em;box-sizing: border-box;padding-bottom: 0.4em;background-color: white;}#sk-container-id-2 div.sk-label label {font-family: monospace;font-weight: bold;display: inline-block;line-height: 1.2em;}#sk-container-id-2 div.sk-label-container {text-align: center;}#sk-container-id-2 div.sk-container {/* jupyter's `normalize.less` sets `[hidden] { display: none; }` but bootstrap.min.css set `[hidden] { display: none !important; }` so we also need the `!important` here to be able to override the default hidden behavior on the sphinx rendered scikit-learn.org. See: https://github.com/scikit-learn/scikit-learn/issues/21755 */display: inline-block !important;position: relative;}#sk-container-id-2 div.sk-text-repr-fallback {display: none;}</style><div id=\"sk-container-id-2\" class=\"sk-top-container\"><div class=\"sk-text-repr-fallback\"><pre>GradientBoostingRegressor()</pre><b>In a Jupyter environment, please rerun this cell to show the HTML representation or trust the notebook. <br />On GitHub, the HTML representation is unable to render, please try loading this page with nbviewer.org.</b></div><div class=\"sk-container\" hidden><div class=\"sk-item\"><div class=\"sk-estimator sk-toggleable\"><input class=\"sk-toggleable__control sk-hidden--visually\" id=\"sk-estimator-id-2\" type=\"checkbox\" checked><label for=\"sk-estimator-id-2\" class=\"sk-toggleable__label sk-toggleable__label-arrow\">GradientBoostingRegressor</label><div class=\"sk-toggleable__content\"><pre>GradientBoostingRegressor()</pre></div></div></div></div></div>"
      ],
      "text/plain": [
       "GradientBoostingRegressor()"
      ]
     },
     "execution_count": 66,
     "metadata": {},
     "output_type": "execute_result"
    }
   ],
   "source": [
    "boost.fit(X_train, Y_train)"
   ]
  },
  {
   "cell_type": "code",
   "execution_count": 67,
   "id": "cb3b8bcc",
   "metadata": {},
   "outputs": [
    {
     "data": {
      "text/plain": [
       "0.6827260904738602"
      ]
     },
     "execution_count": 67,
     "metadata": {},
     "output_type": "execute_result"
    }
   ],
   "source": [
    "boost.score(X_train, Y_train)"
   ]
  },
  {
   "cell_type": "code",
   "execution_count": 68,
   "id": "30c46c70",
   "metadata": {},
   "outputs": [
    {
     "data": {
      "text/plain": [
       "0.280594326130694"
      ]
     },
     "execution_count": 68,
     "metadata": {},
     "output_type": "execute_result"
    }
   ],
   "source": [
    "boost.score(X_test, Y_test)"
   ]
  },
  {
   "cell_type": "code",
   "execution_count": 69,
   "id": "2d84d406",
   "metadata": {},
   "outputs": [
    {
     "data": {
      "text/plain": [
       "0.8573486578204983"
      ]
     },
     "execution_count": 69,
     "metadata": {},
     "output_type": "execute_result"
    }
   ],
   "source": [
    "rmse_gboost = mean_squared_error(Y_test, boost.predict(X_test), squared=False)\n",
    "rmse_gboost"
   ]
  },
  {
   "cell_type": "code",
   "execution_count": 70,
   "id": "b502b350",
   "metadata": {},
   "outputs": [
    {
     "data": {
      "text/plain": [
       "19.44"
      ]
     },
     "execution_count": 70,
     "metadata": {},
     "output_type": "execute_result"
    }
   ],
   "source": [
    "gboost_error = round(np.mean(100*np.sqrt((Y_test - boost.predict(X_test))**2)/Y_test),2)\n",
    "gboost_error"
   ]
  },
  {
   "cell_type": "code",
   "execution_count": 71,
   "id": "c567dcee",
   "metadata": {},
   "outputs": [],
   "source": [
    "predicted_gboost = boost.predict(X_test)"
   ]
  },
  {
   "cell_type": "code",
   "execution_count": 72,
   "id": "2b7781cf",
   "metadata": {},
   "outputs": [
    {
     "data": {
      "text/plain": [
       "array([-0.06351873,  0.2138127 ,  0.0321743 , ..., -0.5272271 ,\n",
       "        0.08781481, -0.07992222])"
      ]
     },
     "execution_count": 72,
     "metadata": {},
     "output_type": "execute_result"
    }
   ],
   "source": [
    "predicted_gboost"
   ]
  },
  {
   "cell_type": "code",
   "execution_count": 140,
   "id": "ad0e4ee3",
   "metadata": {},
   "outputs": [],
   "source": [
    "#Features importances\n",
    "importance1 = boost.feature_importances_"
   ]
  },
  {
   "cell_type": "code",
   "execution_count": 141,
   "id": "8c3f5514",
   "metadata": {},
   "outputs": [
    {
     "name": "stdout",
     "output_type": "stream",
     "text": [
      "Feature: 0, Score: 0.00260\n",
      "Feature: 1, Score: 0.00347\n",
      "Feature: 2, Score: 0.00342\n",
      "Feature: 3, Score: 0.00276\n",
      "Feature: 4, Score: 0.07755\n",
      "Feature: 5, Score: 0.03466\n",
      "Feature: 6, Score: 0.13567\n",
      "Feature: 7, Score: 0.13728\n",
      "Feature: 8, Score: 0.20295\n",
      "Feature: 9, Score: 0.00601\n",
      "Feature: 10, Score: 0.00099\n",
      "Feature: 11, Score: 0.01195\n",
      "Feature: 12, Score: 0.18045\n",
      "Feature: 13, Score: 0.01724\n",
      "Feature: 14, Score: 0.06752\n",
      "Feature: 15, Score: 0.00296\n",
      "Feature: 16, Score: 0.00552\n",
      "Feature: 17, Score: 0.02226\n",
      "Feature: 18, Score: 0.00680\n",
      "Feature: 19, Score: 0.03167\n",
      "Feature: 20, Score: 0.02179\n",
      "Feature: 21, Score: 0.00156\n",
      "Feature: 22, Score: 0.00351\n",
      "Feature: 23, Score: 0.00009\n",
      "Feature: 24, Score: 0.00039\n",
      "Feature: 25, Score: 0.00000\n",
      "Feature: 26, Score: 0.00000\n",
      "Feature: 27, Score: 0.00224\n",
      "Feature: 28, Score: 0.00011\n",
      "Feature: 29, Score: 0.00080\n",
      "Feature: 30, Score: 0.01579\n"
     ]
    }
   ],
   "source": [
    "for i,v in enumerate(importance1):\n",
    "    print('Feature: %0d, Score: %.5f' % (i,v))"
   ]
  },
  {
   "cell_type": "code",
   "execution_count": 142,
   "id": "6ddbf6f5",
   "metadata": {},
   "outputs": [
    {
     "data": {
      "image/png": "[encoded data removed]",
      "text/plain": [
       "<Figure size 432x288 with 1 Axes>"
      ]
     },
     "metadata": {
      "needs_background": "light"
     },
     "output_type": "display_data"
    }
   ],
   "source": [
    "pyplot.bar([x for x in range(len(importance))], importance1)\n",
    "pyplot.show()"
   ]
  },
  {
   "cell_type": "markdown",
   "id": "c33ea4b0",
   "metadata": {},
   "source": [
    "Tras probar con los dos algoritmos más potentes para llevar a cabo la regresión, los resultados otorgan un mayor score a XGBoost pero un menor error al GradientBoost."
   ]
  },
  {
   "cell_type": "markdown",
   "id": "40a6f0a0",
   "metadata": {},
   "source": [
    "**K-folds cross validator**"
   ]
  },
  {
   "cell_type": "code",
   "execution_count": 73,
   "id": "a1af673a",
   "metadata": {},
   "outputs": [],
   "source": [
    "from sklearn.model_selection import KFold"
   ]
  },
  {
   "cell_type": "code",
   "execution_count": 74,
   "id": "65732e6a",
   "metadata": {},
   "outputs": [],
   "source": [
    "Xkf = data_numericas.drop(columns='Price')\n",
    "Ykf = data_numericas['Price']"
   ]
  },
  {
   "cell_type": "code",
   "execution_count": 75,
   "id": "caf2d864",
   "metadata": {},
   "outputs": [],
   "source": [
    "kf = KFold(n_splits=10)"
   ]
  },
  {
   "cell_type": "code",
   "execution_count": 76,
   "id": "f132039d",
   "metadata": {},
   "outputs": [
    {
     "data": {
      "text/plain": [
       "10"
      ]
     },
     "execution_count": 76,
     "metadata": {},
     "output_type": "execute_result"
    }
   ],
   "source": [
    "kf.get_n_splits(Xkf)"
   ]
  },
  {
   "cell_type": "code",
   "execution_count": 77,
   "id": "d2cb1c1a",
   "metadata": {},
   "outputs": [
    {
     "name": "stdout",
     "output_type": "stream",
     "text": [
      "TRAIN: [ 1478  1479  1480 ... 14777 14778 14779] TEST: [   0    1    2 ... 1475 1476 1477]\n",
      "TRAIN: [    0     1     2 ... 14777 14778 14779] TEST: [1478 1479 1480 ... 2953 2954 2955]\n",
      "TRAIN: [    0     1     2 ... 14777 14778 14779] TEST: [2956 2957 2958 ... 4431 4432 4433]\n",
      "TRAIN: [    0     1     2 ... 14777 14778 14779] TEST: [4434 4435 4436 ... 5909 5910 5911]\n",
      "TRAIN: [    0     1     2 ... 14777 14778 14779] TEST: [5912 5913 5914 ... 7387 7388 7389]\n",
      "TRAIN: [    0     1     2 ... 14777 14778 14779] TEST: [7390 7391 7392 ... 8865 8866 8867]\n",
      "TRAIN: [    0     1     2 ... 14777 14778 14779] TEST: [ 8868  8869  8870 ... 10343 10344 10345]\n",
      "TRAIN: [    0     1     2 ... 14777 14778 14779] TEST: [10346 10347 10348 ... 11821 11822 11823]\n",
      "TRAIN: [    0     1     2 ... 14777 14778 14779] TEST: [11824 11825 11826 ... 13299 13300 13301]\n",
      "TRAIN: [    0     1     2 ... 13299 13300 13301] TEST: [13302 13303 13304 ... 14777 14778 14779]\n"
     ]
    }
   ],
   "source": [
    "for train_index, test_index in kf.split(Xkf):\n",
    "    print(\"TRAIN:\", train_index, \"TEST:\", test_index)"
   ]
  },
  {
   "cell_type": "code",
   "execution_count": 78,
   "id": "8e66fc3d",
   "metadata": {},
   "outputs": [],
   "source": [
    "Xkf_train, Xkf_test = train_index, test_index"
   ]
  },
  {
   "cell_type": "markdown",
   "id": "ea3cc53d",
   "metadata": {},
   "source": [
    "**CONSTRUCCIÓN DE RED NEURONAL CON KERAS**"
   ]
  },
  {
   "cell_type": "code",
   "execution_count": 79,
   "id": "31cb6217",
   "metadata": {},
   "outputs": [],
   "source": [
    "from tensorflow import keras "
   ]
  },
  {
   "cell_type": "code",
   "execution_count": 80,
   "id": "ecbeb146",
   "metadata": {},
   "outputs": [],
   "source": [
    "#Formato de entrada\n",
    "inputs = tf.keras.Input(shape=(X_train.shape[1],))\n",
    "\n",
    "#Enlazando las capas (MLP)\n",
    "x = tf.keras.layers.Dense(254, activation=\"relu\")(inputs)\n",
    "x = tf.keras.layers.Dense(254, activation=\"relu\")(x)\n",
    "x = tf.keras.layers.Dense(64, activation=\"relu\")(x)\n",
    "x = tf.keras.layers.Dense(64, activation=\"relu\")(x)\n",
    "\n",
    "#Capa de salida\n",
    "output = tf.keras.layers.Dense(1)(x)\n",
    "\n",
    "#Creación del modelo indicando las salidas y las entradas\n",
    "model = tf.keras.Model(inputs, output)"
   ]
  },
  {
   "cell_type": "code",
   "execution_count": 81,
   "id": "f564e2ca",
   "metadata": {},
   "outputs": [],
   "source": [
    "#Compilación\n",
    "model.compile(optimizer='adam',\n",
    "              loss=tf.keras.losses.MeanSquaredError(),\n",
    "             metrics=tf.keras.metrics.RootMeanSquaredError(name='rmse'))"
   ]
  },
  {
   "cell_type": "code",
   "execution_count": 82,
   "id": "fe50337c",
   "metadata": {},
   "outputs": [
    {
     "name": "stdout",
     "output_type": "stream",
     "text": [
      "Epoch 1/100\n",
      "278/278 [==============================] - 2s 4ms/step - loss: 0.7351 - rmse: 0.8574 - val_loss: 0.7202 - val_rmse: 0.8487\n",
      "Epoch 2/100\n",
      "278/278 [==============================] - 1s 3ms/step - loss: 0.6567 - rmse: 0.8104 - val_loss: 0.7428 - val_rmse: 0.8619\n",
      "Epoch 3/100\n",
      "278/278 [==============================] - 1s 2ms/step - loss: 0.6153 - rmse: 0.7844 - val_loss: 0.7299 - val_rmse: 0.8544\n",
      "Epoch 4/100\n",
      "278/278 [==============================] - 1s 2ms/step - loss: 0.5847 - rmse: 0.7646 - val_loss: 0.7040 - val_rmse: 0.8391\n",
      "Epoch 5/100\n",
      "278/278 [==============================] - 1s 3ms/step - loss: 0.5765 - rmse: 0.7593 - val_loss: 0.7265 - val_rmse: 0.8524\n",
      "Epoch 6/100\n",
      "278/278 [==============================] - 1s 3ms/step - loss: 0.5388 - rmse: 0.7340 - val_loss: 0.6775 - val_rmse: 0.8231\n",
      "Epoch 7/100\n",
      "278/278 [==============================] - 1s 3ms/step - loss: 0.5332 - rmse: 0.7302 - val_loss: 0.7082 - val_rmse: 0.8415\n",
      "Epoch 8/100\n",
      "278/278 [==============================] - 1s 3ms/step - loss: 0.5034 - rmse: 0.7095 - val_loss: 0.7756 - val_rmse: 0.8807\n",
      "Epoch 9/100\n",
      "278/278 [==============================] - 1s 3ms/step - loss: 0.4686 - rmse: 0.6845 - val_loss: 0.8819 - val_rmse: 0.9391\n",
      "Epoch 10/100\n",
      "278/278 [==============================] - 1s 3ms/step - loss: 0.4574 - rmse: 0.6763 - val_loss: 0.7746 - val_rmse: 0.8801\n",
      "Epoch 11/100\n",
      "278/278 [==============================] - 1s 3ms/step - loss: 0.4431 - rmse: 0.6657 - val_loss: 1.0256 - val_rmse: 1.0127\n",
      "Epoch 12/100\n",
      "278/278 [==============================] - 1s 3ms/step - loss: 0.4881 - rmse: 0.6986 - val_loss: 0.7948 - val_rmse: 0.8915\n",
      "Epoch 13/100\n",
      "278/278 [==============================] - 1s 3ms/step - loss: 0.4509 - rmse: 0.6715 - val_loss: 0.8570 - val_rmse: 0.9258\n",
      "Epoch 14/100\n",
      "278/278 [==============================] - 1s 3ms/step - loss: 0.4412 - rmse: 0.6643 - val_loss: 0.7544 - val_rmse: 0.8686\n",
      "Epoch 15/100\n",
      "278/278 [==============================] - 1s 2ms/step - loss: 0.4027 - rmse: 0.6346 - val_loss: 0.7730 - val_rmse: 0.8792\n",
      "Epoch 16/100\n",
      "278/278 [==============================] - 1s 2ms/step - loss: 0.3874 - rmse: 0.6224 - val_loss: 0.9537 - val_rmse: 0.9766\n",
      "Epoch 17/100\n",
      "278/278 [==============================] - 1s 3ms/step - loss: 0.3816 - rmse: 0.6178 - val_loss: 0.8368 - val_rmse: 0.9148\n",
      "Epoch 18/100\n",
      "278/278 [==============================] - 1s 3ms/step - loss: 0.3865 - rmse: 0.6217 - val_loss: 0.8530 - val_rmse: 0.9236\n",
      "Epoch 19/100\n",
      "278/278 [==============================] - 1s 2ms/step - loss: 0.3866 - rmse: 0.6218 - val_loss: 0.8760 - val_rmse: 0.9360\n",
      "Epoch 20/100\n",
      "278/278 [==============================] - 1s 3ms/step - loss: 0.3706 - rmse: 0.6088 - val_loss: 0.7676 - val_rmse: 0.8761\n",
      "Epoch 21/100\n",
      "278/278 [==============================] - 1s 3ms/step - loss: 0.3431 - rmse: 0.5857 - val_loss: 0.7817 - val_rmse: 0.8842\n",
      "Epoch 22/100\n",
      "278/278 [==============================] - 1s 2ms/step - loss: 0.3430 - rmse: 0.5857 - val_loss: 0.7941 - val_rmse: 0.8911\n",
      "Epoch 23/100\n",
      "278/278 [==============================] - 1s 2ms/step - loss: 0.3237 - rmse: 0.5689 - val_loss: 0.7954 - val_rmse: 0.8919\n",
      "Epoch 24/100\n",
      "278/278 [==============================] - 1s 3ms/step - loss: 0.3147 - rmse: 0.5610 - val_loss: 0.9959 - val_rmse: 0.9979\n",
      "Epoch 25/100\n",
      "278/278 [==============================] - 1s 3ms/step - loss: 0.2925 - rmse: 0.5409 - val_loss: 0.7625 - val_rmse: 0.8732\n",
      "Epoch 26/100\n",
      "278/278 [==============================] - 1s 2ms/step - loss: 0.3001 - rmse: 0.5478 - val_loss: 0.8358 - val_rmse: 0.9142\n",
      "Epoch 27/100\n",
      "278/278 [==============================] - 1s 3ms/step - loss: 0.2911 - rmse: 0.5396 - val_loss: 1.0975 - val_rmse: 1.0476\n",
      "Epoch 28/100\n",
      "278/278 [==============================] - 1s 3ms/step - loss: 0.3006 - rmse: 0.5482 - val_loss: 0.8958 - val_rmse: 0.9465\n",
      "Epoch 29/100\n",
      "278/278 [==============================] - 1s 2ms/step - loss: 0.3048 - rmse: 0.5521 - val_loss: 0.7455 - val_rmse: 0.8634\n",
      "Epoch 30/100\n",
      "278/278 [==============================] - 1s 3ms/step - loss: 0.3619 - rmse: 0.6016 - val_loss: 0.8130 - val_rmse: 0.9017\n",
      "Epoch 31/100\n",
      "278/278 [==============================] - 1s 3ms/step - loss: 0.2984 - rmse: 0.5463 - val_loss: 0.8726 - val_rmse: 0.9342\n",
      "Epoch 32/100\n",
      "278/278 [==============================] - 1s 3ms/step - loss: 0.2694 - rmse: 0.5190 - val_loss: 0.8401 - val_rmse: 0.9166\n",
      "Epoch 33/100\n",
      "278/278 [==============================] - 1s 3ms/step - loss: 0.2588 - rmse: 0.5087 - val_loss: 0.8762 - val_rmse: 0.9360\n",
      "Epoch 34/100\n",
      "278/278 [==============================] - 1s 3ms/step - loss: 0.2658 - rmse: 0.5155 - val_loss: 0.9398 - val_rmse: 0.9695\n",
      "Epoch 35/100\n",
      "278/278 [==============================] - 1s 3ms/step - loss: 0.2595 - rmse: 0.5094 - val_loss: 0.9163 - val_rmse: 0.9572\n",
      "Epoch 36/100\n",
      "278/278 [==============================] - 1s 2ms/step - loss: 0.2652 - rmse: 0.5149 - val_loss: 0.9623 - val_rmse: 0.9810\n",
      "Epoch 37/100\n",
      "278/278 [==============================] - 1s 3ms/step - loss: 0.2633 - rmse: 0.5131 - val_loss: 0.8213 - val_rmse: 0.9063\n",
      "Epoch 38/100\n",
      "278/278 [==============================] - 1s 3ms/step - loss: 0.2722 - rmse: 0.5217 - val_loss: 0.7619 - val_rmse: 0.8729\n",
      "Epoch 39/100\n",
      "278/278 [==============================] - 1s 3ms/step - loss: 0.2664 - rmse: 0.5162 - val_loss: 0.7656 - val_rmse: 0.8750\n",
      "Epoch 40/100\n",
      "278/278 [==============================] - 1s 2ms/step - loss: 0.2512 - rmse: 0.5012 - val_loss: 0.9682 - val_rmse: 0.9840\n",
      "Epoch 41/100\n",
      "278/278 [==============================] - 1s 3ms/step - loss: 0.2567 - rmse: 0.5067 - val_loss: 0.8509 - val_rmse: 0.9224\n",
      "Epoch 42/100\n",
      "278/278 [==============================] - 1s 3ms/step - loss: 0.2487 - rmse: 0.4987 - val_loss: 0.7544 - val_rmse: 0.8686\n",
      "Epoch 43/100\n",
      "278/278 [==============================] - 1s 2ms/step - loss: 0.2605 - rmse: 0.5104 - val_loss: 0.8224 - val_rmse: 0.9069\n",
      "Epoch 44/100\n",
      "278/278 [==============================] - 1s 3ms/step - loss: 0.2531 - rmse: 0.5031 - val_loss: 0.8766 - val_rmse: 0.9363\n",
      "Epoch 45/100\n",
      "278/278 [==============================] - 1s 3ms/step - loss: 0.2305 - rmse: 0.4801 - val_loss: 0.8800 - val_rmse: 0.9381\n",
      "Epoch 46/100\n",
      "278/278 [==============================] - 1s 2ms/step - loss: 0.2459 - rmse: 0.4959 - val_loss: 0.8062 - val_rmse: 0.8979\n",
      "Epoch 47/100\n",
      "278/278 [==============================] - 1s 2ms/step - loss: 0.2437 - rmse: 0.4937 - val_loss: 0.8558 - val_rmse: 0.9251\n",
      "Epoch 48/100\n",
      "278/278 [==============================] - 1s 3ms/step - loss: 0.2319 - rmse: 0.4815 - val_loss: 0.8546 - val_rmse: 0.9244\n",
      "Epoch 49/100\n",
      "278/278 [==============================] - 1s 3ms/step - loss: 0.2342 - rmse: 0.4839 - val_loss: 0.7887 - val_rmse: 0.8881\n",
      "Epoch 50/100\n",
      "278/278 [==============================] - 1s 3ms/step - loss: 0.2253 - rmse: 0.4747 - val_loss: 0.8437 - val_rmse: 0.9185\n",
      "Epoch 51/100\n",
      "278/278 [==============================] - 1s 3ms/step - loss: 0.2207 - rmse: 0.4697 - val_loss: 0.8517 - val_rmse: 0.9229\n",
      "Epoch 52/100\n",
      "278/278 [==============================] - 1s 3ms/step - loss: 0.2284 - rmse: 0.4779 - val_loss: 0.8621 - val_rmse: 0.9285\n",
      "Epoch 53/100\n",
      "278/278 [==============================] - 1s 2ms/step - loss: 0.2186 - rmse: 0.4675 - val_loss: 0.8199 - val_rmse: 0.9055\n",
      "Epoch 54/100\n",
      "278/278 [==============================] - 1s 2ms/step - loss: 0.2224 - rmse: 0.4716 - val_loss: 0.8383 - val_rmse: 0.9156\n",
      "Epoch 55/100\n",
      "278/278 [==============================] - 1s 3ms/step - loss: 0.2156 - rmse: 0.4643 - val_loss: 0.8241 - val_rmse: 0.9078\n",
      "Epoch 56/100\n",
      "278/278 [==============================] - 1s 3ms/step - loss: 0.2189 - rmse: 0.4679 - val_loss: 0.8760 - val_rmse: 0.9359\n",
      "Epoch 57/100\n",
      "278/278 [==============================] - 1s 2ms/step - loss: 0.2254 - rmse: 0.4748 - val_loss: 0.8311 - val_rmse: 0.9117\n",
      "Epoch 58/100\n",
      "278/278 [==============================] - 1s 3ms/step - loss: 0.2239 - rmse: 0.4732 - val_loss: 0.7530 - val_rmse: 0.8678\n",
      "Epoch 59/100\n",
      "278/278 [==============================] - 1s 3ms/step - loss: 0.2332 - rmse: 0.4829 - val_loss: 0.8084 - val_rmse: 0.8991\n",
      "Epoch 60/100\n",
      "278/278 [==============================] - 1s 3ms/step - loss: 0.2283 - rmse: 0.4778 - val_loss: 0.8753 - val_rmse: 0.9356\n",
      "Epoch 61/100\n"
     ]
    },
    {
     "name": "stdout",
     "output_type": "stream",
     "text": [
      "278/278 [==============================] - 1s 3ms/step - loss: 0.2180 - rmse: 0.4669 - val_loss: 0.7597 - val_rmse: 0.8716\n",
      "Epoch 62/100\n",
      "278/278 [==============================] - 1s 3ms/step - loss: 0.2083 - rmse: 0.4564 - val_loss: 0.7440 - val_rmse: 0.8625\n",
      "Epoch 63/100\n",
      "278/278 [==============================] - 1s 3ms/step - loss: 0.2121 - rmse: 0.4606 - val_loss: 0.7647 - val_rmse: 0.8745\n",
      "Epoch 64/100\n",
      "278/278 [==============================] - 1s 3ms/step - loss: 0.2056 - rmse: 0.4535 - val_loss: 0.8351 - val_rmse: 0.9138\n",
      "Epoch 65/100\n",
      "278/278 [==============================] - 1s 3ms/step - loss: 0.1983 - rmse: 0.4454 - val_loss: 0.8879 - val_rmse: 0.9423\n",
      "Epoch 66/100\n",
      "278/278 [==============================] - 1s 3ms/step - loss: 0.1929 - rmse: 0.4392 - val_loss: 0.8507 - val_rmse: 0.9223\n",
      "Epoch 67/100\n",
      "278/278 [==============================] - 1s 3ms/step - loss: 0.2088 - rmse: 0.4569 - val_loss: 0.8495 - val_rmse: 0.9217\n",
      "Epoch 68/100\n",
      "278/278 [==============================] - 1s 3ms/step - loss: 0.1936 - rmse: 0.4399 - val_loss: 0.8291 - val_rmse: 0.9105\n",
      "Epoch 69/100\n",
      "278/278 [==============================] - 1s 3ms/step - loss: 0.2047 - rmse: 0.4524 - val_loss: 0.8204 - val_rmse: 0.9058\n",
      "Epoch 70/100\n",
      "278/278 [==============================] - 1s 3ms/step - loss: 0.2007 - rmse: 0.4480 - val_loss: 0.8592 - val_rmse: 0.9270\n",
      "Epoch 71/100\n",
      "278/278 [==============================] - 1s 3ms/step - loss: 0.1937 - rmse: 0.4401 - val_loss: 0.8909 - val_rmse: 0.9439\n",
      "Epoch 72/100\n",
      "278/278 [==============================] - 1s 3ms/step - loss: 0.2040 - rmse: 0.4516 - val_loss: 0.8021 - val_rmse: 0.8956\n",
      "Epoch 73/100\n",
      "278/278 [==============================] - 1s 3ms/step - loss: 0.1911 - rmse: 0.4371 - val_loss: 0.8237 - val_rmse: 0.9076\n",
      "Epoch 74/100\n",
      "278/278 [==============================] - 1s 3ms/step - loss: 0.1929 - rmse: 0.4392 - val_loss: 0.8887 - val_rmse: 0.9427\n",
      "Epoch 75/100\n",
      "278/278 [==============================] - 1s 3ms/step - loss: 0.2053 - rmse: 0.4531 - val_loss: 0.7656 - val_rmse: 0.8750\n",
      "Epoch 76/100\n",
      "278/278 [==============================] - 1s 3ms/step - loss: 0.1841 - rmse: 0.4291 - val_loss: 0.7996 - val_rmse: 0.8942\n",
      "Epoch 77/100\n",
      "278/278 [==============================] - 1s 5ms/step - loss: 0.1794 - rmse: 0.4236 - val_loss: 0.8816 - val_rmse: 0.9389\n",
      "Epoch 78/100\n",
      "278/278 [==============================] - 1s 4ms/step - loss: 0.1750 - rmse: 0.4184 - val_loss: 0.7811 - val_rmse: 0.8838\n",
      "Epoch 79/100\n",
      "278/278 [==============================] - 1s 3ms/step - loss: 0.1986 - rmse: 0.4456 - val_loss: 0.8420 - val_rmse: 0.9176\n",
      "Epoch 80/100\n",
      "278/278 [==============================] - 1s 3ms/step - loss: 0.1954 - rmse: 0.4421 - val_loss: 0.8772 - val_rmse: 0.9366\n",
      "Epoch 81/100\n",
      "278/278 [==============================] - 1s 3ms/step - loss: 0.1775 - rmse: 0.4213 - val_loss: 0.7846 - val_rmse: 0.8858\n",
      "Epoch 82/100\n",
      "278/278 [==============================] - 1s 3ms/step - loss: 0.1871 - rmse: 0.4326 - val_loss: 0.8063 - val_rmse: 0.8980\n",
      "Epoch 83/100\n",
      "278/278 [==============================] - 1s 3ms/step - loss: 0.1730 - rmse: 0.4160 - val_loss: 0.7721 - val_rmse: 0.8787\n",
      "Epoch 84/100\n",
      "278/278 [==============================] - 1s 3ms/step - loss: 0.1825 - rmse: 0.4272 - val_loss: 0.8080 - val_rmse: 0.8989\n",
      "Epoch 85/100\n",
      "278/278 [==============================] - 1s 3ms/step - loss: 0.1768 - rmse: 0.4205 - val_loss: 0.7825 - val_rmse: 0.8846\n",
      "Epoch 86/100\n",
      "278/278 [==============================] - 1s 3ms/step - loss: 0.1740 - rmse: 0.4172 - val_loss: 0.8456 - val_rmse: 0.9196\n",
      "Epoch 87/100\n",
      "278/278 [==============================] - 1s 3ms/step - loss: 0.1610 - rmse: 0.4013 - val_loss: 0.7846 - val_rmse: 0.8858\n",
      "Epoch 88/100\n",
      "278/278 [==============================] - 1s 3ms/step - loss: 0.1653 - rmse: 0.4065 - val_loss: 0.8792 - val_rmse: 0.9377\n",
      "Epoch 89/100\n",
      "278/278 [==============================] - 1s 3ms/step - loss: 0.1598 - rmse: 0.3998 - val_loss: 0.8137 - val_rmse: 0.9021\n",
      "Epoch 90/100\n",
      "278/278 [==============================] - 1s 3ms/step - loss: 0.1805 - rmse: 0.4249 - val_loss: 0.7551 - val_rmse: 0.8690\n",
      "Epoch 91/100\n",
      "278/278 [==============================] - 1s 3ms/step - loss: 0.1723 - rmse: 0.4151 - val_loss: 0.8376 - val_rmse: 0.9152\n",
      "Epoch 92/100\n",
      "278/278 [==============================] - 1s 3ms/step - loss: 0.1605 - rmse: 0.4006 - val_loss: 0.7321 - val_rmse: 0.8556\n",
      "Epoch 93/100\n",
      "278/278 [==============================] - 1s 3ms/step - loss: 0.1581 - rmse: 0.3977 - val_loss: 0.7986 - val_rmse: 0.8937\n",
      "Epoch 94/100\n",
      "278/278 [==============================] - 1s 3ms/step - loss: 0.1873 - rmse: 0.4328 - val_loss: 0.7412 - val_rmse: 0.8609\n",
      "Epoch 95/100\n",
      "278/278 [==============================] - 1s 3ms/step - loss: 0.1664 - rmse: 0.4079 - val_loss: 0.7902 - val_rmse: 0.8889\n",
      "Epoch 96/100\n",
      "278/278 [==============================] - 1s 3ms/step - loss: 0.1586 - rmse: 0.3983 - val_loss: 0.7617 - val_rmse: 0.8727\n",
      "Epoch 97/100\n",
      "278/278 [==============================] - 1s 3ms/step - loss: 0.1741 - rmse: 0.4172 - val_loss: 0.7826 - val_rmse: 0.8847\n",
      "Epoch 98/100\n",
      "278/278 [==============================] - 1s 3ms/step - loss: 0.1560 - rmse: 0.3950 - val_loss: 0.7949 - val_rmse: 0.8915\n",
      "Epoch 99/100\n",
      "278/278 [==============================] - 1s 3ms/step - loss: 0.1531 - rmse: 0.3913 - val_loss: 0.8048 - val_rmse: 0.8971\n",
      "Epoch 100/100\n",
      "278/278 [==============================] - 1s 3ms/step - loss: 0.1515 - rmse: 0.3893 - val_loss: 0.7923 - val_rmse: 0.8901\n"
     ]
    },
    {
     "data": {
      "text/plain": [
       "<keras.callbacks.History at 0x212748e3130>"
      ]
     },
     "execution_count": 82,
     "metadata": {},
     "output_type": "execute_result"
    }
   ],
   "source": [
    "#Entrenamiento\n",
    "model.fit(X_train.to_numpy(),\n",
    "          Y_train.to_numpy(), \n",
    "          epochs=100, \n",
    "          validation_data=(X_test.to_numpy(),Y_test.to_numpy()),\n",
    "          )"
   ]
  },
  {
   "cell_type": "code",
   "execution_count": 83,
   "id": "2842811a",
   "metadata": {},
   "outputs": [],
   "source": [
    "data_tensor = data_numericas.drop(columns='Price')"
   ]
  },
  {
   "cell_type": "code",
   "execution_count": 84,
   "id": "e163e30a",
   "metadata": {},
   "outputs": [
    {
     "name": "stdout",
     "output_type": "stream",
     "text": [
      "462/462 [==============================] - 1s 1ms/step\n"
     ]
    }
   ],
   "source": [
    "predicted_data_norm = data_numericas.copy()\n",
    "predicted_data_norm['Price'] = model.predict(data_tensor.to_numpy())\n",
    "predicted_data_unorm = pd.DataFrame(index=predicted_data_norm.index, columns=predicted_data_norm.columns, data=train_scaler.inverse_transform(predicted_data_norm))\n",
    "predicted_data_unorm['predicted_price'] = predicted_data_unorm['Price']\n",
    "predicted_data_unorm['Price'] = data_numericas['Price']"
   ]
  },
  {
   "cell_type": "code",
   "execution_count": 85,
   "id": "ad0e605b",
   "metadata": {},
   "outputs": [
    {
     "data": {
      "text/plain": [
       "9439.68"
      ]
     },
     "execution_count": 85,
     "metadata": {},
     "output_type": "execute_result"
    }
   ],
   "source": [
    "rmse_nn = round(np.mean(100*np.sqrt((predicted_data_unorm['Price'] - \n",
    "                                     predicted_data_unorm['predicted_price'])**2)/predicted_data_unorm['Price']),2)\n",
    "rmse_nn"
   ]
  },
  {
   "cell_type": "code",
   "execution_count": 87,
   "id": "58689fe6",
   "metadata": {},
   "outputs": [
    {
     "name": "stdout",
     "output_type": "stream",
     "text": [
      "Model: \"model\"\n",
      "_________________________________________________________________\n",
      " Layer (type)                Output Shape              Param #   \n",
      "=================================================================\n",
      " input_1 (InputLayer)        [(None, 31)]              0         \n",
      "                                                                 \n",
      " dense (Dense)               (None, 254)               8128      \n",
      "                                                                 \n",
      " dense_1 (Dense)             (None, 254)               64770     \n",
      "                                                                 \n",
      " dense_2 (Dense)             (None, 64)                16320     \n",
      "                                                                 \n",
      " dense_3 (Dense)             (None, 64)                4160      \n",
      "                                                                 \n",
      " dense_4 (Dense)             (None, 1)                 65        \n",
      "                                                                 \n",
      "=================================================================\n",
      "Total params: 93,443\n",
      "Trainable params: 93,443\n",
      "Non-trainable params: 0\n",
      "_________________________________________________________________\n"
     ]
    }
   ],
   "source": [
    "model.summary()"
   ]
  },
  {
   "cell_type": "markdown",
   "id": "55d9f25b",
   "metadata": {},
   "source": [
    "**REGULARIZACIÓN**"
   ]
  },
  {
   "cell_type": "code",
   "execution_count": 129,
   "id": "338b4537",
   "metadata": {},
   "outputs": [],
   "source": [
    "###Primero regularización con L1 (LASSO)\n",
    "\n",
    "#Formato de entrada\n",
    "inputs = tf.keras.Input(shape=(X_train.shape[1],))\n",
    "\n",
    "#Enlazando las capas (MLP)\n",
    "x = tf.keras.layers.Dense(254, activation=\"relu\", kernel_regularizer=tf.keras.regularizers.l1(0.002))(inputs)\n",
    "x = tf.keras.layers.Dense(254, activation=\"relu\", kernel_regularizer=tf.keras.regularizers.l1(0.002))(x)\n",
    "x = tf.keras.layers.Dense(64, activation=\"relu\", kernel_regularizer=tf.keras.regularizers.l1(0.002))(x)\n",
    "x = tf.keras.layers.Dense(64, activation=\"relu\", kernel_regularizer=tf.keras.regularizers.l1(0.002))(x)\n",
    "\n",
    "#Capa de salida\n",
    "output = tf.keras.layers.Dense(1)(x)\n",
    "\n",
    "#Creación del modelo indicando las salidas y las entradas\n",
    "model1 = tf.keras.Model(inputs, output)"
   ]
  },
  {
   "cell_type": "code",
   "execution_count": 130,
   "id": "8fdf7f0a",
   "metadata": {},
   "outputs": [],
   "source": [
    "#Compilación\n",
    "model1.compile(optimizer='adam',\n",
    "              loss=tf.keras.losses.MeanSquaredError(),\n",
    "             metrics=tf.keras.metrics.RootMeanSquaredError(name='rmse'))"
   ]
  },
  {
   "cell_type": "code",
   "execution_count": 131,
   "id": "549b2fca",
   "metadata": {},
   "outputs": [
    {
     "name": "stdout",
     "output_type": "stream",
     "text": [
      "Epoch 1/100\n",
      "278/278 [==============================] - 2s 4ms/step - loss: 4.5834 - rmse: 0.8612 - val_loss: 1.8585 - val_rmse: 0.8680\n",
      "Epoch 2/100\n",
      "278/278 [==============================] - 1s 3ms/step - loss: 1.3691 - rmse: 0.8337 - val_loss: 1.1475 - val_rmse: 0.8578\n",
      "Epoch 3/100\n",
      "278/278 [==============================] - 1s 3ms/step - loss: 0.9981 - rmse: 0.8234 - val_loss: 1.0173 - val_rmse: 0.8720\n",
      "Epoch 4/100\n",
      "278/278 [==============================] - 1s 3ms/step - loss: 0.8842 - rmse: 0.8155 - val_loss: 0.9160 - val_rmse: 0.8526\n",
      "Epoch 5/100\n",
      "278/278 [==============================] - 1s 3ms/step - loss: 0.8261 - rmse: 0.8064 - val_loss: 0.8908 - val_rmse: 0.8550\n",
      "Epoch 6/100\n",
      "278/278 [==============================] - 1s 3ms/step - loss: 0.7978 - rmse: 0.8020 - val_loss: 0.8523 - val_rmse: 0.8415\n",
      "Epoch 7/100\n",
      "278/278 [==============================] - 1s 3ms/step - loss: 0.7672 - rmse: 0.7932 - val_loss: 0.8564 - val_rmse: 0.8481\n",
      "Epoch 8/100\n",
      "278/278 [==============================] - 1s 3ms/step - loss: 0.7599 - rmse: 0.7922 - val_loss: 0.8304 - val_rmse: 0.8374\n",
      "Epoch 9/100\n",
      "278/278 [==============================] - 1s 3ms/step - loss: 0.7490 - rmse: 0.7891 - val_loss: 0.8183 - val_rmse: 0.8338\n",
      "Epoch 10/100\n",
      "278/278 [==============================] - 1s 3ms/step - loss: 0.7294 - rmse: 0.7782 - val_loss: 0.8160 - val_rmse: 0.8331\n",
      "Epoch 11/100\n",
      "278/278 [==============================] - 1s 3ms/step - loss: 0.7225 - rmse: 0.7754 - val_loss: 0.8161 - val_rmse: 0.8337\n",
      "Epoch 12/100\n",
      "278/278 [==============================] - 1s 3ms/step - loss: 0.7131 - rmse: 0.7695 - val_loss: 0.8494 - val_rmse: 0.8531\n",
      "Epoch 13/100\n",
      "278/278 [==============================] - 1s 3ms/step - loss: 0.7099 - rmse: 0.7675 - val_loss: 0.8469 - val_rmse: 0.8502\n",
      "Epoch 14/100\n",
      "278/278 [==============================] - 1s 3ms/step - loss: 0.7060 - rmse: 0.7659 - val_loss: 0.8098 - val_rmse: 0.8308\n",
      "Epoch 15/100\n",
      "278/278 [==============================] - 1s 3ms/step - loss: 0.6915 - rmse: 0.7562 - val_loss: 0.8059 - val_rmse: 0.8294\n",
      "Epoch 16/100\n",
      "278/278 [==============================] - 1s 3ms/step - loss: 0.6833 - rmse: 0.7512 - val_loss: 0.8268 - val_rmse: 0.8395\n",
      "Epoch 17/100\n",
      "278/278 [==============================] - 1s 3ms/step - loss: 0.6895 - rmse: 0.7534 - val_loss: 0.8096 - val_rmse: 0.8300\n",
      "Epoch 18/100\n",
      "278/278 [==============================] - 1s 3ms/step - loss: 0.6750 - rmse: 0.7443 - val_loss: 0.8257 - val_rmse: 0.8405\n",
      "Epoch 19/100\n",
      "278/278 [==============================] - 1s 3ms/step - loss: 0.6657 - rmse: 0.7394 - val_loss: 0.7957 - val_rmse: 0.8231\n",
      "Epoch 20/100\n",
      "278/278 [==============================] - 1s 3ms/step - loss: 0.6564 - rmse: 0.7330 - val_loss: 0.8181 - val_rmse: 0.8358\n",
      "Epoch 21/100\n",
      "278/278 [==============================] - 1s 3ms/step - loss: 0.6425 - rmse: 0.7229 - val_loss: 0.8097 - val_rmse: 0.8300\n",
      "Epoch 22/100\n",
      "278/278 [==============================] - 1s 3ms/step - loss: 0.6369 - rmse: 0.7180 - val_loss: 0.8183 - val_rmse: 0.8351\n",
      "Epoch 23/100\n",
      "278/278 [==============================] - 1s 3ms/step - loss: 0.6357 - rmse: 0.7171 - val_loss: 0.8078 - val_rmse: 0.8287\n",
      "Epoch 24/100\n",
      "278/278 [==============================] - 1s 3ms/step - loss: 0.6314 - rmse: 0.7128 - val_loss: 0.8240 - val_rmse: 0.8378\n",
      "Epoch 25/100\n",
      "278/278 [==============================] - 1s 3ms/step - loss: 0.6232 - rmse: 0.7073 - val_loss: 0.8705 - val_rmse: 0.8648\n",
      "Epoch 26/100\n",
      "278/278 [==============================] - 1s 3ms/step - loss: 0.6253 - rmse: 0.7092 - val_loss: 0.8242 - val_rmse: 0.8376\n",
      "Epoch 27/100\n",
      "278/278 [==============================] - 1s 3ms/step - loss: 0.6179 - rmse: 0.7038 - val_loss: 0.8248 - val_rmse: 0.8384\n",
      "Epoch 28/100\n",
      "278/278 [==============================] - 1s 3ms/step - loss: 0.5982 - rmse: 0.6893 - val_loss: 0.8808 - val_rmse: 0.8700\n",
      "Epoch 29/100\n",
      "278/278 [==============================] - 1s 3ms/step - loss: 0.6186 - rmse: 0.7038 - val_loss: 0.8395 - val_rmse: 0.8469\n",
      "Epoch 30/100\n",
      "278/278 [==============================] - 1s 3ms/step - loss: 0.6069 - rmse: 0.6952 - val_loss: 0.8395 - val_rmse: 0.8467\n",
      "Epoch 31/100\n",
      "278/278 [==============================] - 1s 3ms/step - loss: 0.5981 - rmse: 0.6896 - val_loss: 0.8163 - val_rmse: 0.8342\n",
      "Epoch 32/100\n",
      "278/278 [==============================] - 1s 3ms/step - loss: 0.5958 - rmse: 0.6886 - val_loss: 0.8390 - val_rmse: 0.8472\n",
      "Epoch 33/100\n",
      "278/278 [==============================] - 1s 3ms/step - loss: 0.5964 - rmse: 0.6891 - val_loss: 0.8495 - val_rmse: 0.8535\n",
      "Epoch 34/100\n",
      "278/278 [==============================] - 1s 2ms/step - loss: 0.5870 - rmse: 0.6822 - val_loss: 0.8372 - val_rmse: 0.8464\n",
      "Epoch 35/100\n",
      "278/278 [==============================] - 1s 2ms/step - loss: 0.5952 - rmse: 0.6887 - val_loss: 0.8429 - val_rmse: 0.8501\n",
      "Epoch 36/100\n",
      "278/278 [==============================] - 1s 5ms/step - loss: 0.5786 - rmse: 0.6770 - val_loss: 0.8600 - val_rmse: 0.8600\n",
      "Epoch 37/100\n",
      "278/278 [==============================] - 1s 5ms/step - loss: 0.5786 - rmse: 0.6771 - val_loss: 0.8321 - val_rmse: 0.8443\n",
      "Epoch 38/100\n",
      "278/278 [==============================] - 2s 6ms/step - loss: 0.5778 - rmse: 0.6767 - val_loss: 0.8672 - val_rmse: 0.8638\n",
      "Epoch 39/100\n",
      "278/278 [==============================] - 1s 5ms/step - loss: 0.5676 - rmse: 0.6690 - val_loss: 0.8695 - val_rmse: 0.8661\n",
      "Epoch 40/100\n",
      "278/278 [==============================] - 2s 6ms/step - loss: 0.5794 - rmse: 0.6779 - val_loss: 0.8939 - val_rmse: 0.8794\n",
      "Epoch 41/100\n",
      "278/278 [==============================] - 1s 5ms/step - loss: 0.5790 - rmse: 0.6780 - val_loss: 0.9087 - val_rmse: 0.8881\n",
      "Epoch 42/100\n",
      "278/278 [==============================] - 1s 5ms/step - loss: 0.5657 - rmse: 0.6683 - val_loss: 0.9060 - val_rmse: 0.8872\n",
      "Epoch 43/100\n",
      "278/278 [==============================] - 1s 5ms/step - loss: 0.5591 - rmse: 0.6620 - val_loss: 0.8827 - val_rmse: 0.8739\n",
      "Epoch 44/100\n",
      "278/278 [==============================] - 1s 5ms/step - loss: 0.5660 - rmse: 0.6691 - val_loss: 0.9218 - val_rmse: 0.8965\n",
      "Epoch 45/100\n",
      "278/278 [==============================] - 1s 5ms/step - loss: 0.5946 - rmse: 0.6907 - val_loss: 0.8888 - val_rmse: 0.8781\n",
      "Epoch 46/100\n",
      "278/278 [==============================] - 1s 5ms/step - loss: 0.5681 - rmse: 0.6707 - val_loss: 0.8967 - val_rmse: 0.8823\n",
      "Epoch 47/100\n",
      "278/278 [==============================] - 1s 5ms/step - loss: 0.5617 - rmse: 0.6662 - val_loss: 0.9827 - val_rmse: 0.9297\n",
      "Epoch 48/100\n",
      "278/278 [==============================] - 1s 5ms/step - loss: 0.5622 - rmse: 0.6672 - val_loss: 0.9270 - val_rmse: 0.9001\n",
      "Epoch 49/100\n",
      "278/278 [==============================] - 1s 5ms/step - loss: 0.5625 - rmse: 0.6674 - val_loss: 0.8811 - val_rmse: 0.8744\n",
      "Epoch 50/100\n",
      "278/278 [==============================] - 1s 5ms/step - loss: 0.5558 - rmse: 0.6625 - val_loss: 0.8956 - val_rmse: 0.8824\n",
      "Epoch 51/100\n",
      "278/278 [==============================] - 1s 5ms/step - loss: 0.5674 - rmse: 0.6710 - val_loss: 0.9226 - val_rmse: 0.8980\n",
      "Epoch 52/100\n",
      "278/278 [==============================] - 1s 5ms/step - loss: 0.5578 - rmse: 0.6638 - val_loss: 0.9058 - val_rmse: 0.8886\n",
      "Epoch 53/100\n",
      "278/278 [==============================] - 1s 5ms/step - loss: 0.5483 - rmse: 0.6578 - val_loss: 0.9343 - val_rmse: 0.9050\n",
      "Epoch 54/100\n",
      "278/278 [==============================] - 1s 5ms/step - loss: 0.5539 - rmse: 0.6625 - val_loss: 0.8553 - val_rmse: 0.8612\n",
      "Epoch 55/100\n",
      "278/278 [==============================] - 1s 5ms/step - loss: 0.5590 - rmse: 0.6670 - val_loss: 0.9318 - val_rmse: 0.9041\n",
      "Epoch 56/100\n",
      "278/278 [==============================] - 1s 5ms/step - loss: 0.5486 - rmse: 0.6593 - val_loss: 0.9168 - val_rmse: 0.8956\n",
      "Epoch 57/100\n",
      "278/278 [==============================] - 1s 5ms/step - loss: 0.5544 - rmse: 0.6634 - val_loss: 0.9108 - val_rmse: 0.8926\n",
      "Epoch 58/100\n",
      "278/278 [==============================] - 1s 5ms/step - loss: 0.5459 - rmse: 0.6574 - val_loss: 0.9511 - val_rmse: 0.9153\n",
      "Epoch 59/100\n",
      "278/278 [==============================] - 1s 5ms/step - loss: 0.5501 - rmse: 0.6608 - val_loss: 0.9247 - val_rmse: 0.9012\n",
      "Epoch 60/100\n",
      "278/278 [==============================] - 1s 5ms/step - loss: 0.5478 - rmse: 0.6595 - val_loss: 0.9000 - val_rmse: 0.8876\n",
      "Epoch 61/100\n"
     ]
    },
    {
     "name": "stdout",
     "output_type": "stream",
     "text": [
      "278/278 [==============================] - 1s 5ms/step - loss: 0.5460 - rmse: 0.6588 - val_loss: 0.9534 - val_rmse: 0.9172\n",
      "Epoch 62/100\n",
      "278/278 [==============================] - 1s 5ms/step - loss: 0.5471 - rmse: 0.6591 - val_loss: 0.9589 - val_rmse: 0.9200\n",
      "Epoch 63/100\n",
      "278/278 [==============================] - 1s 5ms/step - loss: 0.5532 - rmse: 0.6640 - val_loss: 0.8645 - val_rmse: 0.8678\n",
      "Epoch 64/100\n",
      "278/278 [==============================] - 1s 5ms/step - loss: 0.5430 - rmse: 0.6566 - val_loss: 0.9527 - val_rmse: 0.9168\n",
      "Epoch 65/100\n",
      "278/278 [==============================] - 2s 5ms/step - loss: 0.5457 - rmse: 0.6585 - val_loss: 0.8873 - val_rmse: 0.8808\n",
      "Epoch 66/100\n",
      "278/278 [==============================] - 1s 5ms/step - loss: 0.5411 - rmse: 0.6551 - val_loss: 0.9752 - val_rmse: 0.9290\n",
      "Epoch 67/100\n",
      "278/278 [==============================] - 2s 6ms/step - loss: 0.5392 - rmse: 0.6538 - val_loss: 0.9420 - val_rmse: 0.9113\n",
      "Epoch 68/100\n",
      "278/278 [==============================] - 2s 6ms/step - loss: 0.5418 - rmse: 0.6557 - val_loss: 0.9819 - val_rmse: 0.9326\n",
      "Epoch 69/100\n",
      "278/278 [==============================] - 2s 6ms/step - loss: 0.5455 - rmse: 0.6582 - val_loss: 0.9295 - val_rmse: 0.9041\n",
      "Epoch 70/100\n",
      "278/278 [==============================] - 2s 6ms/step - loss: 0.5522 - rmse: 0.6635 - val_loss: 0.9631 - val_rmse: 0.9227\n",
      "Epoch 71/100\n",
      "278/278 [==============================] - 2s 6ms/step - loss: 0.5424 - rmse: 0.6560 - val_loss: 0.9137 - val_rmse: 0.8955\n",
      "Epoch 72/100\n",
      "278/278 [==============================] - 2s 6ms/step - loss: 0.5361 - rmse: 0.6514 - val_loss: 0.8828 - val_rmse: 0.8783\n",
      "Epoch 73/100\n",
      "278/278 [==============================] - 2s 6ms/step - loss: 0.5413 - rmse: 0.6549 - val_loss: 0.9788 - val_rmse: 0.9310\n",
      "Epoch 74/100\n",
      "278/278 [==============================] - 1s 5ms/step - loss: 0.5337 - rmse: 0.6495 - val_loss: 0.9578 - val_rmse: 0.9199\n",
      "Epoch 75/100\n",
      "278/278 [==============================] - 1s 5ms/step - loss: 0.5424 - rmse: 0.6559 - val_loss: 0.9857 - val_rmse: 0.9350\n",
      "Epoch 76/100\n",
      "278/278 [==============================] - 1s 5ms/step - loss: 0.5326 - rmse: 0.6486 - val_loss: 1.0544 - val_rmse: 0.9703\n",
      "Epoch 77/100\n",
      "278/278 [==============================] - 2s 5ms/step - loss: 0.5553 - rmse: 0.6650 - val_loss: 0.9230 - val_rmse: 0.9003\n",
      "Epoch 78/100\n",
      "278/278 [==============================] - 1s 5ms/step - loss: 0.5277 - rmse: 0.6441 - val_loss: 0.9467 - val_rmse: 0.9135\n",
      "Epoch 79/100\n",
      "278/278 [==============================] - 1s 5ms/step - loss: 0.5355 - rmse: 0.6505 - val_loss: 0.8783 - val_rmse: 0.8752\n",
      "Epoch 80/100\n",
      "278/278 [==============================] - 1s 5ms/step - loss: 0.5397 - rmse: 0.6537 - val_loss: 0.9057 - val_rmse: 0.8913\n",
      "Epoch 81/100\n",
      "278/278 [==============================] - 1s 5ms/step - loss: 0.5343 - rmse: 0.6501 - val_loss: 0.9303 - val_rmse: 0.9050\n",
      "Epoch 82/100\n",
      "278/278 [==============================] - 2s 5ms/step - loss: 0.5354 - rmse: 0.6506 - val_loss: 1.0171 - val_rmse: 0.9508\n",
      "Epoch 83/100\n",
      "278/278 [==============================] - 1s 5ms/step - loss: 0.5350 - rmse: 0.6505 - val_loss: 1.0384 - val_rmse: 0.9625\n",
      "Epoch 84/100\n",
      "278/278 [==============================] - 1s 5ms/step - loss: 0.5320 - rmse: 0.6481 - val_loss: 0.9592 - val_rmse: 0.9208\n",
      "Epoch 85/100\n",
      "278/278 [==============================] - 1s 5ms/step - loss: 0.5355 - rmse: 0.6509 - val_loss: 0.8828 - val_rmse: 0.8777\n",
      "Epoch 86/100\n",
      "278/278 [==============================] - 1s 5ms/step - loss: 0.5364 - rmse: 0.6511 - val_loss: 0.9733 - val_rmse: 0.9281\n",
      "Epoch 87/100\n",
      "278/278 [==============================] - 1s 5ms/step - loss: 0.5231 - rmse: 0.6409 - val_loss: 0.9434 - val_rmse: 0.9117\n",
      "Epoch 88/100\n",
      "278/278 [==============================] - 1s 5ms/step - loss: 0.5347 - rmse: 0.6497 - val_loss: 0.9762 - val_rmse: 0.9296\n",
      "Epoch 89/100\n",
      "278/278 [==============================] - 1s 5ms/step - loss: 0.5324 - rmse: 0.6484 - val_loss: 0.9211 - val_rmse: 0.8992\n",
      "Epoch 90/100\n",
      "278/278 [==============================] - 1s 5ms/step - loss: 0.5387 - rmse: 0.6529 - val_loss: 0.9390 - val_rmse: 0.9094\n",
      "Epoch 91/100\n",
      "278/278 [==============================] - 2s 5ms/step - loss: 0.5347 - rmse: 0.6501 - val_loss: 1.0479 - val_rmse: 0.9668\n",
      "Epoch 92/100\n",
      "278/278 [==============================] - 1s 5ms/step - loss: 0.5291 - rmse: 0.6458 - val_loss: 0.9829 - val_rmse: 0.9334\n",
      "Epoch 93/100\n",
      "278/278 [==============================] - 1s 5ms/step - loss: 0.5306 - rmse: 0.6469 - val_loss: 0.9684 - val_rmse: 0.9255\n",
      "Epoch 94/100\n",
      "278/278 [==============================] - 1s 5ms/step - loss: 0.5285 - rmse: 0.6457 - val_loss: 0.9941 - val_rmse: 0.9394\n",
      "Epoch 95/100\n",
      "278/278 [==============================] - 1s 4ms/step - loss: 0.5220 - rmse: 0.6405 - val_loss: 0.9892 - val_rmse: 0.9370\n",
      "Epoch 96/100\n",
      "278/278 [==============================] - 1s 4ms/step - loss: 0.5256 - rmse: 0.6436 - val_loss: 1.0662 - val_rmse: 0.9768\n",
      "Epoch 97/100\n",
      "278/278 [==============================] - 1s 4ms/step - loss: 0.5235 - rmse: 0.6421 - val_loss: 1.0613 - val_rmse: 0.9746\n",
      "Epoch 98/100\n",
      "278/278 [==============================] - 1s 4ms/step - loss: 0.5263 - rmse: 0.6446 - val_loss: 1.0123 - val_rmse: 0.9494\n",
      "Epoch 99/100\n",
      "278/278 [==============================] - 1s 5ms/step - loss: 0.5239 - rmse: 0.6426 - val_loss: 1.0521 - val_rmse: 0.9702\n",
      "Epoch 100/100\n",
      "278/278 [==============================] - 1s 4ms/step - loss: 0.5246 - rmse: 0.6434 - val_loss: 1.0073 - val_rmse: 0.9472\n"
     ]
    },
    {
     "data": {
      "text/plain": [
       "<keras.callbacks.History at 0x2122f6e1580>"
      ]
     },
     "execution_count": 131,
     "metadata": {},
     "output_type": "execute_result"
    }
   ],
   "source": [
    "#Entrenamiento\n",
    "model1.fit(X_train.to_numpy(),\n",
    "          Y_train.to_numpy(), \n",
    "          epochs=100, \n",
    "          validation_data=(X_test.to_numpy(),Y_test.to_numpy()),\n",
    "          )"
   ]
  },
  {
   "cell_type": "code",
   "execution_count": 132,
   "id": "15436a42",
   "metadata": {
    "scrolled": true
   },
   "outputs": [
    {
     "name": "stdout",
     "output_type": "stream",
     "text": [
      "462/462 [==============================] - 1s 1ms/step\n"
     ]
    }
   ],
   "source": [
    "predicted_data_norm = data_numericas.copy()\n",
    "predicted_data_norm['Price'] = model1.predict(data_tensor.to_numpy())\n",
    "predicted_data_unorm = pd.DataFrame(index=predicted_data_norm.index, columns=predicted_data_norm.columns, data=train_scaler.inverse_transform(predicted_data_norm))\n",
    "predicted_data_unorm['predicted_price'] = predicted_data_unorm['Price']\n",
    "predicted_data_unorm['Price'] = data_numericas['Price']"
   ]
  },
  {
   "cell_type": "code",
   "execution_count": 133,
   "id": "5a1ccd4e",
   "metadata": {},
   "outputs": [
    {
     "data": {
      "text/plain": [
       "8757.17"
      ]
     },
     "execution_count": 133,
     "metadata": {},
     "output_type": "execute_result"
    }
   ],
   "source": [
    "rmse_nn1 = round(np.mean(100*np.sqrt((predicted_data_unorm['Price'] - \n",
    "                                     predicted_data_unorm['predicted_price'])**2)/predicted_data_unorm['Price']),2)\n",
    "rmse_nn1"
   ]
  },
  {
   "cell_type": "code",
   "execution_count": 134,
   "id": "ef156862",
   "metadata": {},
   "outputs": [],
   "source": [
    "###Primero regularización con L2 (RIDGE)\n",
    "\n",
    "#Formato de entrada\n",
    "inputs = tf.keras.Input(shape=(X_train.shape[1],))\n",
    "\n",
    "#Enlazando las capas (MLP)\n",
    "x = tf.keras.layers.Dense(254, activation=\"relu\", kernel_regularizer=tf.keras.regularizers.l2(0.002))(inputs)\n",
    "x = tf.keras.layers.Dense(254, activation=\"relu\", kernel_regularizer=tf.keras.regularizers.l2(0.002))(x)\n",
    "x = tf.keras.layers.Dense(64, activation=\"relu\", kernel_regularizer=tf.keras.regularizers.l2(0.002))(x)\n",
    "x = tf.keras.layers.Dense(64, activation=\"relu\", kernel_regularizer=tf.keras.regularizers.l2(0.002))(x)\n",
    "\n",
    "#Capa de salida\n",
    "output = tf.keras.layers.Dense(1)(x)\n",
    "\n",
    "#Creación del modelo indicando las salidas y las entradas\n",
    "model2 = tf.keras.Model(inputs, output)"
   ]
  },
  {
   "cell_type": "code",
   "execution_count": 135,
   "id": "f782eae7",
   "metadata": {},
   "outputs": [],
   "source": [
    "#Compilación\n",
    "model2.compile(optimizer='adam',\n",
    "              loss=tf.keras.losses.MeanSquaredError(),\n",
    "             metrics=tf.keras.metrics.RootMeanSquaredError(name='rmse'))"
   ]
  },
  {
   "cell_type": "code",
   "execution_count": 136,
   "id": "1cefd41f",
   "metadata": {},
   "outputs": [
    {
     "name": "stdout",
     "output_type": "stream",
     "text": [
      "Epoch 1/100\n",
      "278/278 [==============================] - 2s 4ms/step - loss: 1.4212 - rmse: 0.8668 - val_loss: 1.2575 - val_rmse: 0.8682\n",
      "Epoch 2/100\n",
      "278/278 [==============================] - 1s 3ms/step - loss: 1.0972 - rmse: 0.8202 - val_loss: 1.2043 - val_rmse: 0.9198\n",
      "Epoch 3/100\n",
      "278/278 [==============================] - 1s 3ms/step - loss: 0.9619 - rmse: 0.8068 - val_loss: 1.0261 - val_rmse: 0.8700\n",
      "Epoch 4/100\n",
      "278/278 [==============================] - 1s 3ms/step - loss: 0.8637 - rmse: 0.7888 - val_loss: 0.9115 - val_rmse: 0.8346\n",
      "Epoch 5/100\n",
      "278/278 [==============================] - 1s 3ms/step - loss: 0.7912 - rmse: 0.7720 - val_loss: 0.8782 - val_rmse: 0.8365\n",
      "Epoch 6/100\n",
      "278/278 [==============================] - 1s 3ms/step - loss: 0.7466 - rmse: 0.7619 - val_loss: 0.9060 - val_rmse: 0.8674\n",
      "Epoch 7/100\n",
      "278/278 [==============================] - 1s 3ms/step - loss: 0.7326 - rmse: 0.7661 - val_loss: 0.8264 - val_rmse: 0.8308\n",
      "Epoch 8/100\n",
      "278/278 [==============================] - 1s 3ms/step - loss: 0.6991 - rmse: 0.7534 - val_loss: 0.8324 - val_rmse: 0.8415\n",
      "Epoch 9/100\n",
      "278/278 [==============================] - 1s 4ms/step - loss: 0.6857 - rmse: 0.7520 - val_loss: 0.8285 - val_rmse: 0.8442\n",
      "Epoch 10/100\n",
      "278/278 [==============================] - 1s 3ms/step - loss: 0.6623 - rmse: 0.7426 - val_loss: 0.8370 - val_rmse: 0.8546\n",
      "Epoch 11/100\n",
      "278/278 [==============================] - 1s 3ms/step - loss: 0.6473 - rmse: 0.7382 - val_loss: 0.8499 - val_rmse: 0.8643\n",
      "Epoch 12/100\n",
      "278/278 [==============================] - 1s 3ms/step - loss: 0.6258 - rmse: 0.7241 - val_loss: 0.8062 - val_rmse: 0.8422\n",
      "Epoch 13/100\n",
      "278/278 [==============================] - 1s 3ms/step - loss: 0.6159 - rmse: 0.7212 - val_loss: 0.7917 - val_rmse: 0.8361\n",
      "Epoch 14/100\n",
      "278/278 [==============================] - 1s 3ms/step - loss: 0.6021 - rmse: 0.7137 - val_loss: 0.9095 - val_rmse: 0.9036\n",
      "Epoch 15/100\n",
      "278/278 [==============================] - 1s 3ms/step - loss: 0.5962 - rmse: 0.7109 - val_loss: 0.8072 - val_rmse: 0.8481\n",
      "Epoch 16/100\n",
      "278/278 [==============================] - 1s 3ms/step - loss: 0.5634 - rmse: 0.6890 - val_loss: 0.7966 - val_rmse: 0.8417\n",
      "Epoch 17/100\n",
      "278/278 [==============================] - 1s 3ms/step - loss: 0.5790 - rmse: 0.7014 - val_loss: 0.8167 - val_rmse: 0.8551\n",
      "Epoch 18/100\n",
      "278/278 [==============================] - 1s 3ms/step - loss: 0.5563 - rmse: 0.6862 - val_loss: 0.8477 - val_rmse: 0.8747\n",
      "Epoch 19/100\n",
      "278/278 [==============================] - 1s 3ms/step - loss: 0.5541 - rmse: 0.6867 - val_loss: 0.8625 - val_rmse: 0.8801\n",
      "Epoch 20/100\n",
      "278/278 [==============================] - 1s 3ms/step - loss: 0.5809 - rmse: 0.7009 - val_loss: 0.7964 - val_rmse: 0.8409\n",
      "Epoch 21/100\n",
      "278/278 [==============================] - 1s 3ms/step - loss: 0.5489 - rmse: 0.6792 - val_loss: 0.8666 - val_rmse: 0.8838\n",
      "Epoch 22/100\n",
      "278/278 [==============================] - 1s 3ms/step - loss: 0.5425 - rmse: 0.6772 - val_loss: 0.8474 - val_rmse: 0.8733\n",
      "Epoch 23/100\n",
      "278/278 [==============================] - 1s 3ms/step - loss: 0.5292 - rmse: 0.6673 - val_loss: 0.8871 - val_rmse: 0.8966\n",
      "Epoch 24/100\n",
      "278/278 [==============================] - 1s 4ms/step - loss: 0.5199 - rmse: 0.6612 - val_loss: 0.8199 - val_rmse: 0.8595\n",
      "Epoch 25/100\n",
      "278/278 [==============================] - 1s 3ms/step - loss: 0.5373 - rmse: 0.6743 - val_loss: 0.8152 - val_rmse: 0.8550\n",
      "Epoch 26/100\n",
      "278/278 [==============================] - 1s 3ms/step - loss: 0.5250 - rmse: 0.6644 - val_loss: 0.8551 - val_rmse: 0.8781\n",
      "Epoch 27/100\n",
      "278/278 [==============================] - 1s 3ms/step - loss: 0.5100 - rmse: 0.6531 - val_loss: 0.9272 - val_rmse: 0.9186\n",
      "Epoch 28/100\n",
      "278/278 [==============================] - 1s 3ms/step - loss: 0.5065 - rmse: 0.6511 - val_loss: 0.8729 - val_rmse: 0.8904\n",
      "Epoch 29/100\n",
      "278/278 [==============================] - 1s 3ms/step - loss: 0.4959 - rmse: 0.6446 - val_loss: 0.9468 - val_rmse: 0.9303\n",
      "Epoch 30/100\n",
      "278/278 [==============================] - 1s 3ms/step - loss: 0.5334 - rmse: 0.6724 - val_loss: 0.8894 - val_rmse: 0.8992\n",
      "Epoch 31/100\n",
      "278/278 [==============================] - 1s 3ms/step - loss: 0.5062 - rmse: 0.6527 - val_loss: 0.9180 - val_rmse: 0.9151\n",
      "Epoch 32/100\n",
      "278/278 [==============================] - 1s 3ms/step - loss: 0.4832 - rmse: 0.6348 - val_loss: 0.9514 - val_rmse: 0.9334\n",
      "Epoch 33/100\n",
      "278/278 [==============================] - 1s 3ms/step - loss: 0.4767 - rmse: 0.6297 - val_loss: 1.0051 - val_rmse: 0.9616\n",
      "Epoch 34/100\n",
      "278/278 [==============================] - 1s 4ms/step - loss: 0.5142 - rmse: 0.6586 - val_loss: 0.8641 - val_rmse: 0.8855\n",
      "Epoch 35/100\n",
      "278/278 [==============================] - 1s 3ms/step - loss: 0.4726 - rmse: 0.6264 - val_loss: 0.9611 - val_rmse: 0.9383\n",
      "Epoch 36/100\n",
      "278/278 [==============================] - 1s 3ms/step - loss: 0.4684 - rmse: 0.6241 - val_loss: 1.0036 - val_rmse: 0.9614\n",
      "Epoch 37/100\n",
      "278/278 [==============================] - 1s 3ms/step - loss: 0.4967 - rmse: 0.6461 - val_loss: 0.9010 - val_rmse: 0.9061\n",
      "Epoch 38/100\n",
      "278/278 [==============================] - 1s 3ms/step - loss: 0.4829 - rmse: 0.6348 - val_loss: 0.8576 - val_rmse: 0.8819\n",
      "Epoch 39/100\n",
      "278/278 [==============================] - 1s 3ms/step - loss: 0.4533 - rmse: 0.6116 - val_loss: 0.9391 - val_rmse: 0.9269\n",
      "Epoch 40/100\n",
      "278/278 [==============================] - 1s 3ms/step - loss: 0.4854 - rmse: 0.6365 - val_loss: 0.8529 - val_rmse: 0.8786\n",
      "Epoch 41/100\n",
      "278/278 [==============================] - 1s 3ms/step - loss: 0.4753 - rmse: 0.6271 - val_loss: 0.8908 - val_rmse: 0.8994\n",
      "Epoch 42/100\n",
      "278/278 [==============================] - 1s 3ms/step - loss: 0.4436 - rmse: 0.6017 - val_loss: 0.9654 - val_rmse: 0.9406\n",
      "Epoch 43/100\n",
      "278/278 [==============================] - 1s 3ms/step - loss: 0.4435 - rmse: 0.6029 - val_loss: 0.8566 - val_rmse: 0.8817\n",
      "Epoch 44/100\n",
      "278/278 [==============================] - 1s 3ms/step - loss: 0.4350 - rmse: 0.5956 - val_loss: 0.9994 - val_rmse: 0.9588\n",
      "Epoch 45/100\n",
      "278/278 [==============================] - 1s 3ms/step - loss: 0.4426 - rmse: 0.6022 - val_loss: 1.0580 - val_rmse: 0.9887\n",
      "Epoch 46/100\n",
      "278/278 [==============================] - 1s 3ms/step - loss: 0.4670 - rmse: 0.6222 - val_loss: 0.9018 - val_rmse: 0.9058\n",
      "Epoch 47/100\n",
      "278/278 [==============================] - 1s 3ms/step - loss: 0.4612 - rmse: 0.6171 - val_loss: 0.9590 - val_rmse: 0.9367\n",
      "Epoch 48/100\n",
      "278/278 [==============================] - 1s 3ms/step - loss: 0.4505 - rmse: 0.6080 - val_loss: 1.0270 - val_rmse: 0.9729\n",
      "Epoch 49/100\n",
      "278/278 [==============================] - 1s 3ms/step - loss: 0.4256 - rmse: 0.5877 - val_loss: 0.9430 - val_rmse: 0.9294\n",
      "Epoch 50/100\n",
      "278/278 [==============================] - 1s 3ms/step - loss: 0.4195 - rmse: 0.5833 - val_loss: 0.9524 - val_rmse: 0.9347\n",
      "Epoch 51/100\n",
      "278/278 [==============================] - 1s 3ms/step - loss: 0.4368 - rmse: 0.5980 - val_loss: 1.0526 - val_rmse: 0.9863\n",
      "Epoch 52/100\n",
      "278/278 [==============================] - 1s 3ms/step - loss: 0.4225 - rmse: 0.5862 - val_loss: 1.0351 - val_rmse: 0.9778\n",
      "Epoch 53/100\n",
      "278/278 [==============================] - 1s 3ms/step - loss: 0.4316 - rmse: 0.5946 - val_loss: 0.9920 - val_rmse: 0.9554\n",
      "Epoch 54/100\n",
      "278/278 [==============================] - 1s 3ms/step - loss: 0.4193 - rmse: 0.5840 - val_loss: 0.9563 - val_rmse: 0.9372\n",
      "Epoch 55/100\n",
      "278/278 [==============================] - 1s 3ms/step - loss: 0.4161 - rmse: 0.5816 - val_loss: 0.9160 - val_rmse: 0.9156\n",
      "Epoch 56/100\n",
      "278/278 [==============================] - 1s 3ms/step - loss: 0.4620 - rmse: 0.6201 - val_loss: 1.0192 - val_rmse: 0.9701\n",
      "Epoch 57/100\n",
      "278/278 [==============================] - 1s 3ms/step - loss: 0.4259 - rmse: 0.5884 - val_loss: 0.9562 - val_rmse: 0.9363\n",
      "Epoch 58/100\n",
      "278/278 [==============================] - 1s 3ms/step - loss: 0.4184 - rmse: 0.5824 - val_loss: 1.0021 - val_rmse: 0.9608\n",
      "Epoch 59/100\n",
      "278/278 [==============================] - 1s 3ms/step - loss: 0.4172 - rmse: 0.5824 - val_loss: 1.0040 - val_rmse: 0.9619\n",
      "Epoch 60/100\n",
      "278/278 [==============================] - 1s 3ms/step - loss: 0.4163 - rmse: 0.5813 - val_loss: 0.9661 - val_rmse: 0.9429\n",
      "Epoch 61/100\n"
     ]
    },
    {
     "name": "stdout",
     "output_type": "stream",
     "text": [
      "278/278 [==============================] - 1s 4ms/step - loss: 0.4174 - rmse: 0.5828 - val_loss: 1.0317 - val_rmse: 0.9765\n",
      "Epoch 62/100\n",
      "278/278 [==============================] - 1s 3ms/step - loss: 0.4180 - rmse: 0.5828 - val_loss: 1.1008 - val_rmse: 1.0107\n",
      "Epoch 63/100\n",
      "278/278 [==============================] - 1s 3ms/step - loss: 0.4076 - rmse: 0.5740 - val_loss: 1.0212 - val_rmse: 0.9714\n",
      "Epoch 64/100\n",
      "278/278 [==============================] - 1s 3ms/step - loss: 0.4064 - rmse: 0.5735 - val_loss: 1.1269 - val_rmse: 1.0242\n",
      "Epoch 65/100\n",
      "278/278 [==============================] - 1s 3ms/step - loss: 0.4194 - rmse: 0.5844 - val_loss: 1.1211 - val_rmse: 1.0212\n",
      "Epoch 66/100\n",
      "278/278 [==============================] - 1s 4ms/step - loss: 0.3909 - rmse: 0.5601 - val_loss: 0.9527 - val_rmse: 0.9367\n",
      "Epoch 67/100\n",
      "278/278 [==============================] - 1s 3ms/step - loss: 0.4384 - rmse: 0.6015 - val_loss: 0.9940 - val_rmse: 0.9573\n",
      "Epoch 68/100\n",
      "278/278 [==============================] - 1s 3ms/step - loss: 0.4087 - rmse: 0.5754 - val_loss: 1.0089 - val_rmse: 0.9649\n",
      "Epoch 69/100\n",
      "278/278 [==============================] - 1s 3ms/step - loss: 0.4044 - rmse: 0.5719 - val_loss: 0.9850 - val_rmse: 0.9526\n",
      "Epoch 70/100\n",
      "278/278 [==============================] - 1s 3ms/step - loss: 0.4206 - rmse: 0.5857 - val_loss: 0.8929 - val_rmse: 0.9020\n",
      "Epoch 71/100\n",
      "278/278 [==============================] - 1s 3ms/step - loss: 0.4300 - rmse: 0.5927 - val_loss: 0.9085 - val_rmse: 0.9112\n",
      "Epoch 72/100\n",
      "278/278 [==============================] - 1s 3ms/step - loss: 0.4067 - rmse: 0.5732 - val_loss: 1.0181 - val_rmse: 0.9694\n",
      "Epoch 73/100\n",
      "278/278 [==============================] - 1s 5ms/step - loss: 0.4328 - rmse: 0.5946 - val_loss: 1.0282 - val_rmse: 0.9740\n",
      "Epoch 74/100\n",
      "278/278 [==============================] - 1s 3ms/step - loss: 0.3967 - rmse: 0.5638 - val_loss: 0.9727 - val_rmse: 0.9456\n",
      "Epoch 75/100\n",
      "278/278 [==============================] - 1s 3ms/step - loss: 0.3934 - rmse: 0.5612 - val_loss: 1.0574 - val_rmse: 0.9892\n",
      "Epoch 76/100\n",
      "278/278 [==============================] - 1s 3ms/step - loss: 0.3910 - rmse: 0.5600 - val_loss: 1.0813 - val_rmse: 1.0020\n",
      "Epoch 77/100\n",
      "278/278 [==============================] - 1s 3ms/step - loss: 0.4249 - rmse: 0.5894 - val_loss: 0.9888 - val_rmse: 0.9547\n",
      "Epoch 78/100\n",
      "278/278 [==============================] - 1s 3ms/step - loss: 0.3959 - rmse: 0.5643 - val_loss: 0.9437 - val_rmse: 0.9310\n",
      "Epoch 79/100\n",
      "278/278 [==============================] - 1s 3ms/step - loss: 0.3880 - rmse: 0.5572 - val_loss: 1.0540 - val_rmse: 0.9880\n",
      "Epoch 80/100\n",
      "278/278 [==============================] - 1s 3ms/step - loss: 0.3857 - rmse: 0.5555 - val_loss: 0.9822 - val_rmse: 0.9518\n",
      "Epoch 81/100\n",
      "278/278 [==============================] - 1s 3ms/step - loss: 0.3880 - rmse: 0.5581 - val_loss: 0.9294 - val_rmse: 0.9234\n",
      "Epoch 82/100\n",
      "278/278 [==============================] - 1s 3ms/step - loss: 0.4805 - rmse: 0.6365 - val_loss: 0.9434 - val_rmse: 0.9310\n",
      "Epoch 83/100\n",
      "278/278 [==============================] - 1s 3ms/step - loss: 0.4090 - rmse: 0.5764 - val_loss: 0.9161 - val_rmse: 0.9160\n",
      "Epoch 84/100\n",
      "278/278 [==============================] - 1s 3ms/step - loss: 0.3890 - rmse: 0.5585 - val_loss: 0.8896 - val_rmse: 0.9015\n",
      "Epoch 85/100\n",
      "278/278 [==============================] - 1s 3ms/step - loss: 0.3859 - rmse: 0.5550 - val_loss: 1.0491 - val_rmse: 0.9851\n",
      "Epoch 86/100\n",
      "278/278 [==============================] - 1s 3ms/step - loss: 0.3902 - rmse: 0.5591 - val_loss: 0.9265 - val_rmse: 0.9210\n",
      "Epoch 87/100\n",
      "278/278 [==============================] - 3s 9ms/step - loss: 0.3929 - rmse: 0.5611 - val_loss: 1.0204 - val_rmse: 0.9708\n",
      "Epoch 88/100\n",
      "278/278 [==============================] - 2s 6ms/step - loss: 0.3878 - rmse: 0.5567 - val_loss: 0.9082 - val_rmse: 0.9118\n",
      "Epoch 89/100\n",
      "278/278 [==============================] - 2s 6ms/step - loss: 0.3983 - rmse: 0.5665 - val_loss: 0.9134 - val_rmse: 0.9143\n",
      "Epoch 90/100\n",
      "278/278 [==============================] - 1s 4ms/step - loss: 0.3798 - rmse: 0.5495 - val_loss: 1.0369 - val_rmse: 0.9790\n",
      "Epoch 91/100\n",
      "278/278 [==============================] - 1s 4ms/step - loss: 0.3915 - rmse: 0.5603 - val_loss: 1.0565 - val_rmse: 0.9895\n",
      "Epoch 92/100\n",
      "278/278 [==============================] - 2s 7ms/step - loss: 0.3749 - rmse: 0.5458 - val_loss: 1.0488 - val_rmse: 0.9854\n",
      "Epoch 93/100\n",
      "278/278 [==============================] - 1s 4ms/step - loss: 0.3748 - rmse: 0.5454 - val_loss: 0.9778 - val_rmse: 0.9494\n",
      "Epoch 94/100\n",
      "278/278 [==============================] - 1s 3ms/step - loss: 0.3856 - rmse: 0.5558 - val_loss: 1.0109 - val_rmse: 0.9662\n",
      "Epoch 95/100\n",
      "278/278 [==============================] - 2s 6ms/step - loss: 0.3775 - rmse: 0.5475 - val_loss: 1.1277 - val_rmse: 1.0243\n",
      "Epoch 96/100\n",
      "278/278 [==============================] - 1s 5ms/step - loss: 0.3911 - rmse: 0.5596 - val_loss: 1.0693 - val_rmse: 0.9962\n",
      "Epoch 97/100\n",
      "278/278 [==============================] - 1s 4ms/step - loss: 0.4006 - rmse: 0.5683 - val_loss: 1.1800 - val_rmse: 1.0498\n",
      "Epoch 98/100\n",
      "278/278 [==============================] - 1s 4ms/step - loss: 0.3793 - rmse: 0.5497 - val_loss: 1.0959 - val_rmse: 1.0090\n",
      "Epoch 99/100\n",
      "278/278 [==============================] - 1s 4ms/step - loss: 0.4228 - rmse: 0.5888 - val_loss: 0.9923 - val_rmse: 0.9568\n",
      "Epoch 100/100\n",
      "278/278 [==============================] - 1s 4ms/step - loss: 0.3728 - rmse: 0.5443 - val_loss: 1.0406 - val_rmse: 0.9817\n"
     ]
    },
    {
     "data": {
      "text/plain": [
       "<keras.callbacks.History at 0x21230137d60>"
      ]
     },
     "execution_count": 136,
     "metadata": {},
     "output_type": "execute_result"
    }
   ],
   "source": [
    "#Entrenamiento\n",
    "model2.fit(X_train.to_numpy(),\n",
    "          Y_train.to_numpy(), \n",
    "          epochs=100, \n",
    "          validation_data=(X_test.to_numpy(),Y_test.to_numpy()),\n",
    "          )"
   ]
  },
  {
   "cell_type": "code",
   "execution_count": 137,
   "id": "1c91adcc",
   "metadata": {},
   "outputs": [
    {
     "name": "stdout",
     "output_type": "stream",
     "text": [
      "462/462 [==============================] - 1s 1ms/step\n"
     ]
    }
   ],
   "source": [
    "predicted_data_norm = data_numericas.copy()\n",
    "predicted_data_norm['Price'] = model2.predict(data_tensor.to_numpy())\n",
    "predicted_data_unorm = pd.DataFrame(index=predicted_data_norm.index, columns=predicted_data_norm.columns, data=train_scaler.inverse_transform(predicted_data_norm))\n",
    "predicted_data_unorm['predicted_price'] = predicted_data_unorm['Price']\n",
    "predicted_data_unorm['Price'] = data_numericas['Price']"
   ]
  },
  {
   "cell_type": "code",
   "execution_count": 138,
   "id": "e431cf89",
   "metadata": {},
   "outputs": [
    {
     "data": {
      "text/plain": [
       "9775.93"
      ]
     },
     "execution_count": 138,
     "metadata": {},
     "output_type": "execute_result"
    }
   ],
   "source": [
    "rmse_nn2 = round(np.mean(100*np.sqrt((predicted_data_unorm['Price'] - \n",
    "                                     predicted_data_unorm['predicted_price'])**2)/predicted_data_unorm['Price']),2)\n",
    "rmse_nn2"
   ]
  },
  {
   "cell_type": "markdown",
   "id": "95ecffd5",
   "metadata": {},
   "source": [
    "Tras entrenar la red neuronal sin regularización y con regularización L1 y L2, se observa que se obtiene un mejor resultado (menor error) con regularización L1 (LASSO)"
   ]
  },
  {
   "cell_type": "markdown",
   "id": "b68cab21",
   "metadata": {},
   "source": [
    "**TRATAMIENTO DEL TEXTO**"
   ]
  },
  {
   "cell_type": "code",
   "execution_count": 109,
   "id": "45c92a4b",
   "metadata": {},
   "outputs": [],
   "source": [
    "from sentence_transformers import SentenceTransformer"
   ]
  },
  {
   "cell_type": "markdown",
   "id": "fbddb2bf",
   "metadata": {},
   "source": [
    "Tras un considerado número de intentos, hemos decidido no incluir el tratamiento de texto en el análisis ya que nos proporcionaba muchos errores y no hemos logrado transformar todo el texto para incluirlo en la red neuronal."
   ]
  }
 ],
 "metadata": {
  "kernelspec": {
   "display_name": "Python 3 (ipykernel)",
   "language": "python",
   "name": "python3"
  },
  "language_info": {
   "codemirror_mode": {
    "name": "ipython",
    "version": 3
   },
   "file_extension": ".py",
   "mimetype": "text/x-python",
   "name": "python",
   "nbconvert_exporter": "python",
   "pygments_lexer": "ipython3",
   "version": "3.8.8"
  }
 },
 "nbformat": 4,
 "nbformat_minor": 5
}
